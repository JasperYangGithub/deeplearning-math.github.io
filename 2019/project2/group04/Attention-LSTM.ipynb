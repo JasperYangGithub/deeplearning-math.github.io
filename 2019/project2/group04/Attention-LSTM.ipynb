{
 "cells": [
  {
   "cell_type": "code",
   "execution_count": 18,
   "metadata": {},
   "outputs": [],
   "source": [
    "import pandas as pd\n",
    "import numpy as np\n",
    "import glob\n",
    "from pyts.image import RecurrencePlot, GramianAngularField, MarkovTransitionField\n",
    "from sklearn.metrics import accuracy_score\n",
    "import gc\n",
    "from modified_originial_attlstm import *"
   ]
  },
  {
   "cell_type": "code",
   "execution_count": 19,
   "metadata": {},
   "outputs": [],
   "source": [
    "files = glob.glob('data.*')\n",
    "files_train = files[:-2]\n",
    "files_test = files[1:-1]"
   ]
  },
  {
   "cell_type": "code",
   "execution_count": 21,
   "metadata": {},
   "outputs": [
    {
     "name": "stdout",
     "output_type": "stream",
     "text": [
      "==> Use accelerator:  cuda:0\n",
      "==> Start training ...\n",
      "Epochs:  0  Iterations:  3769  Loss:  1.494042049537665e-05\n",
      "Epochs:  10  Iterations:  41459  Loss:  9.606635234645134e-06\n",
      "Epochs:  20  Iterations:  79149  Loss:  8.979037485517662e-06\n",
      "Epochs:  30  Iterations:  116839  Loss:  8.602555952277584e-06\n",
      "Epochs:  40  Iterations:  154529  Loss:  8.35170476425989e-06\n",
      "accuracy_score0.5014335141724073\n",
      "             0\n",
      "0.00 -0.002514\n",
      "0.01 -0.000731\n",
      "0.02 -0.000596\n",
      "0.03 -0.000521\n",
      "0.04 -0.000468\n",
      "...        ...\n",
      "0.96  0.000814\n",
      "0.97  0.000866\n",
      "0.98  0.000936\n",
      "0.99  0.001052\n",
      "1.00  0.002562\n",
      "\n",
      "[101 rows x 1 columns]\n",
      "cor0.08524710621271267\n",
      "==> Use accelerator:  cuda:0\n",
      "==> Start training ...\n",
      "Epochs:  0  Iterations:  3769  Loss:  9.77290977950338e-06\n",
      "Epochs:  10  Iterations:  41459  Loss:  5.880956515379077e-06\n",
      "Epochs:  20  Iterations:  79149  Loss:  5.375526028471466e-06\n",
      "Epochs:  30  Iterations:  116839  Loss:  5.070147281520834e-06\n",
      "Epochs:  40  Iterations:  154529  Loss:  4.883882730550278e-06\n",
      "accuracy_score0.4753566164504821\n",
      "             0\n",
      "0.00 -0.061351\n",
      "0.01 -0.002631\n",
      "0.02 -0.000262\n",
      "0.03  0.000390\n",
      "0.04  0.000694\n",
      "...        ...\n",
      "0.96  0.002291\n",
      "0.97  0.002353\n",
      "0.98  0.002445\n",
      "0.99  0.002644\n",
      "1.00  0.014185\n",
      "\n",
      "[101 rows x 1 columns]\n",
      "cor-0.015772440292097966\n",
      "==> Use accelerator:  cuda:0\n",
      "==> Start training ...\n",
      "Epochs:  0  Iterations:  3769  Loss:  9.824508849036752e-06\n",
      "Epochs:  10  Iterations:  41459  Loss:  4.966614522045586e-06\n",
      "Epochs:  20  Iterations:  79149  Loss:  4.52210375951131e-06\n",
      "Epochs:  30  Iterations:  116839  Loss:  4.211584733839802e-06\n",
      "Epochs:  40  Iterations:  154529  Loss:  4.012039681646118e-06\n",
      "accuracy_score0.5003658933498625\n",
      "             0\n",
      "0.00 -0.006430\n",
      "0.01 -0.001154\n",
      "0.02 -0.001030\n",
      "0.03 -0.000968\n",
      "0.04 -0.000927\n",
      "...        ...\n",
      "0.96 -0.000070\n",
      "0.97 -0.000022\n",
      "0.98  0.000050\n",
      "0.99  0.000189\n",
      "1.00  0.006364\n",
      "\n",
      "[101 rows x 1 columns]\n",
      "cor0.011848102628285713\n",
      "==> Use accelerator:  cuda:0\n",
      "==> Start training ...\n",
      "Epochs:  0  Iterations:  3769  Loss:  2.2186861518372172e-05\n",
      "Epochs:  10  Iterations:  41459  Loss:  9.161541975900693e-06\n",
      "Epochs:  20  Iterations:  79149  Loss:  8.467178235237044e-06\n",
      "Epochs:  30  Iterations:  116839  Loss:  8.003698962912615e-06\n",
      "Epochs:  40  Iterations:  154529  Loss:  7.700868730040272e-06\n",
      "accuracy_score0.5012116978073349\n",
      "             0\n",
      "0.00 -0.011113\n",
      "0.01 -0.000617\n",
      "0.02 -0.000478\n",
      "0.03 -0.000406\n",
      "0.04 -0.000356\n",
      "...        ...\n",
      "0.96  0.000740\n",
      "0.97  0.000788\n",
      "0.98  0.000860\n",
      "0.99  0.001024\n",
      "1.00  0.038796\n",
      "\n",
      "[101 rows x 1 columns]\n",
      "cor0.028287495558308434\n",
      "==> Use accelerator:  cuda:0\n",
      "==> Start training ...\n",
      "Epochs:  0  Iterations:  3769  Loss:  9.52588896283894e-06\n",
      "Epochs:  10  Iterations:  41459  Loss:  4.230296226737944e-06\n",
      "Epochs:  20  Iterations:  79149  Loss:  3.7798559555614355e-06\n",
      "Epochs:  30  Iterations:  116839  Loss:  3.484579258488942e-06\n",
      "Epochs:  40  Iterations:  154529  Loss:  3.329399587253222e-06\n",
      "accuracy_score0.4919389445272513\n",
      "             0\n",
      "0.00 -0.004539\n",
      "0.01 -0.000669\n",
      "0.02 -0.000557\n",
      "0.03 -0.000492\n",
      "0.04 -0.000446\n",
      "...        ...\n",
      "0.96  0.000617\n",
      "0.97  0.000672\n",
      "0.98  0.000752\n",
      "0.99  0.000908\n",
      "1.00  0.002461\n",
      "\n",
      "[101 rows x 1 columns]\n",
      "cor-0.0018303639706994863\n",
      "==> Use accelerator:  cuda:0\n",
      "==> Start training ...\n",
      "Epochs:  0  Iterations:  3769  Loss:  5.408606900029596e-05\n",
      "Epochs:  10  Iterations:  41459  Loss:  3.1269854973263446e-05\n",
      "Epochs:  20  Iterations:  79149  Loss:  3.0352872017548238e-05\n",
      "Epochs:  30  Iterations:  116839  Loss:  2.9604429630764473e-05\n",
      "Epochs:  40  Iterations:  154529  Loss:  2.9011638221755403e-05\n",
      "accuracy_score0.5161500971223991\n",
      "             0\n",
      "0.00 -0.005324\n",
      "0.01 -0.003038\n",
      "0.02 -0.002843\n",
      "0.03 -0.002720\n",
      "0.04 -0.002624\n",
      "...        ...\n",
      "0.96  0.000390\n",
      "0.97  0.000482\n",
      "0.98  0.000602\n",
      "0.99  0.000796\n",
      "1.00  0.003550\n",
      "\n",
      "[101 rows x 1 columns]\n",
      "cor0.05091764261265805\n",
      "==> Use accelerator:  cuda:0\n",
      "==> Start training ...\n",
      "Epochs:  0  Iterations:  3769  Loss:  1.6032568077076768e-05\n",
      "Epochs:  10  Iterations:  41459  Loss:  8.904393431825435e-06\n",
      "Epochs:  20  Iterations:  79149  Loss:  8.293319015414945e-06\n",
      "Epochs:  30  Iterations:  116839  Loss:  7.938028701362473e-06\n",
      "Epochs:  40  Iterations:  154529  Loss:  7.734218292746493e-06\n",
      "accuracy_score0.5168238384181798\n",
      "             0\n",
      "0.00 -0.003050\n",
      "0.01 -0.001132\n",
      "0.02 -0.001018\n",
      "0.03 -0.000959\n",
      "0.04 -0.000916\n",
      "...        ...\n",
      "0.96  0.000263\n",
      "0.97  0.000319\n",
      "0.98  0.000402\n",
      "0.99  0.000539\n",
      "1.00  0.002546\n",
      "\n",
      "[101 rows x 1 columns]\n",
      "cor0.07219501035486839\n",
      "==> Use accelerator:  cuda:0\n",
      "==> Start training ...\n",
      "Epochs:  0  Iterations:  3769  Loss:  4.875055507161612e-06\n",
      "Epochs:  10  Iterations:  41459  Loss:  2.3374093166322192e-06\n",
      "Epochs:  20  Iterations:  79149  Loss:  2.0167202162920326e-06\n",
      "Epochs:  30  Iterations:  116839  Loss:  1.8161648325861364e-06\n",
      "Epochs:  40  Iterations:  154529  Loss:  1.6805634692658343e-06\n",
      "accuracy_score0.5228481221275298\n",
      "             0\n",
      "0.00 -0.001853\n",
      "0.01 -0.000852\n",
      "0.02 -0.000789\n",
      "0.03 -0.000753\n",
      "0.04 -0.000727\n",
      "...        ...\n",
      "0.96  0.000025\n",
      "0.97  0.000054\n",
      "0.98  0.000092\n",
      "0.99  0.000154\n",
      "1.00  0.000981\n",
      "\n",
      "[101 rows x 1 columns]\n",
      "cor0.009735360869101152\n",
      "==> Use accelerator:  cuda:0\n",
      "==> Start training ...\n",
      "Epochs:  0  Iterations:  3769  Loss:  9.703201971241427e-06\n",
      "Epochs:  10  Iterations:  41459  Loss:  5.579965129240647e-06\n",
      "Epochs:  20  Iterations:  79149  Loss:  5.034109535811451e-06\n",
      "Epochs:  30  Iterations:  116839  Loss:  4.736678123127103e-06\n",
      "Epochs:  40  Iterations:  154529  Loss:  4.5412387414569426e-06\n",
      "accuracy_score0.5015340857263688\n",
      "             0\n",
      "0.00 -0.019855\n",
      "0.01 -0.003969\n",
      "0.02 -0.003229\n",
      "0.03 -0.002852\n",
      "0.04 -0.002583\n",
      "...        ...\n",
      "0.96  0.000266\n",
      "0.97  0.000369\n",
      "0.98  0.000533\n",
      "0.99  0.000876\n",
      "1.00  0.008927\n",
      "\n",
      "[101 rows x 1 columns]\n",
      "cor0.017858558578592608\n"
     ]
    }
   ],
   "source": [
    "columns = ['time', 'b1', 'b2', 'b3', 'b4', 'b5', 'b6', 'b7', 'b8', 'b9',\n",
    "       'b10', 'b11', 'b12', 'b13', 'b14', 'b15', 'b16', 'b17', 'b18', 'b19',\n",
    "       'b20', 'b21', 'b22', 'b23', 'b24', 'b25', 'b26', 'b27', 'b28', 'b29',\n",
    "       'b30', 'b31', 'b32', 'b33', 'b34', 'b35', 'b36', 'b37', 'b38', 'b39',\n",
    "       'b40', 'b41', 's1', 's2', 's3', 's4', 's5', 's6', 's7', 's8', 's9',\n",
    "       's10', 's11', 's12', 's13', 's14', 's15', 's16', 's17', 's18', 's19',\n",
    "       's20', 's21', 's22', 's23', 's24', 's25', 's26', 's27', 's28', 's29',\n",
    "       's30', 's31', 's32', 's33', 's34', 's35', 's36', 's37', 's38', 's39',\n",
    "       's40', 's41', 's42', 's43', 's44', 's45', 's46', 's47', 's48', 's49',\n",
    "       's50', 'y_1m', 'y_5m', 'y_10m', 'y_15m', 'y_30m', 'y_hat1', 'y_hat2',\n",
    "       'y_hat3']\n",
    "for i in range(len(files_train)):\n",
    "    #i=0\n",
    "    #File loading\n",
    "    if i == 0:\n",
    "        df = pd.read_csv(files_train[i])\n",
    "        df.columns = columns\n",
    "    else:\n",
    "        df = pd.read_csv(files_train[i],names=columns)\n",
    "    test = pd.read_csv(files_test[i],header=None,names=columns)\n",
    "\n",
    "    #Preprocessing\n",
    "    df = df.set_index(pd.DatetimeIndex(pd.to_datetime(df[df.columns[0]])))\n",
    "    target = df.y_10m\n",
    "    df = df.drop(['s19','s24','time',\"y_1m\",\"y_5m\",\"y_10m\",\"y_15m\",\"y_30m\",\"y_hat1\",\"y_hat2\",\"y_hat3\"],axis=1)\n",
    "    df = df.fillna(0)\n",
    "\n",
    "    test = test.set_index(pd.DatetimeIndex(pd.to_datetime(test[test.columns[0]])))\n",
    "    target_test = test.y_10m\n",
    "    test = test.drop(['s19','s24','time',\"y_1m\",\"y_5m\",\"y_10m\",\"y_15m\",\"y_30m\",\"y_hat1\",\"y_hat2\",\"y_hat3\"],axis=1)\n",
    "    test = test.fillna(0)\n",
    "    test2 = np.array(test)\n",
    "\n",
    "    #TRAINING\n",
    "    batchsize = 128\n",
    "    nhidden_encoder = 128\n",
    "    nhidden_decoder = 128\n",
    "    ntimestep = 2\n",
    "    lr = 0.001\n",
    "    epochs = 50\n",
    "    model = DA_RNN(\n",
    "        np.array(df),\n",
    "        np.array(target),\n",
    "        ntimestep,\n",
    "        nhidden_encoder,\n",
    "        nhidden_decoder,\n",
    "        batchsize,\n",
    "        lr,\n",
    "        epochs,\n",
    "        parallel=True\n",
    "    )\n",
    "    print(\"==> Start training ...\")\n",
    "    model.train()\n",
    "    #TESTING\n",
    "    y_pred = model.test(test2,target_test)\n",
    "    #print(\"accuracy_score\" + str(accuracy_score(np.sign(np.array(target_test)),np.sign(y_pred))))\n",
    "    lin = np.linspace(0,1,5)\n",
    "    print(pd.DataFrame(y_pred).quantile(lin))\n",
    "    print(\"cor: \" + str(np.corrcoef(target_test,y_pred)[0,1]))\n",
    "    pd.DataFrame({'index':test.index,'y_pred':y_pred,'target_test':target_test}).to_csv(\"attlstm\" + str(i) + \".csv\")"
   ]
  },
  {
   "cell_type": "code",
   "execution_count": 41,
   "metadata": {},
   "outputs": [
    {
     "name": "stderr",
     "output_type": "stream",
     "text": [
      "C:\\Users\\cyril\\Anaconda3\\lib\\site-packages\\ipykernel_launcher.py:10: FutureWarning: The signature of `Series.to_csv` was aligned to that of `DataFrame.to_csv`, and argument 'header' will change its default value from False to True: please pass an explicit value to suppress this warning.\n",
      "  # Remove the CWD from sys.path while we load stuff.\n"
     ]
    }
   ],
   "source": [
    "files = glob.glob('attlstm*')[1:]\n",
    "for i,file in enumerate(files):\n",
    "    df = pd.read_csv(file)\n",
    "    df = df.set_index(pd.DatetimeIndex(pd.to_datetime(df[df.columns[0]]))) \n",
    "    df =df.y_pred\n",
    "    if i == 0:\n",
    "        all_df = df\n",
    "    else:\n",
    "        all_df = pd.concat((all_df,df))\n",
    "all_df.to_csv('all_attlstm.csv')"
   ]
  },
  {
   "cell_type": "code",
   "execution_count": 42,
   "metadata": {},
   "outputs": [
    {
     "name": "stderr",
     "output_type": "stream",
     "text": [
      "C:\\Users\\cyril\\Anaconda3\\lib\\site-packages\\ipykernel_launcher.py:10: FutureWarning: The signature of `Series.to_csv` was aligned to that of `DataFrame.to_csv`, and argument 'header' will change its default value from False to True: please pass an explicit value to suppress this warning.\n",
      "  # Remove the CWD from sys.path while we load stuff.\n"
     ]
    }
   ],
   "source": [
    "files = glob.glob('results/attlstm*')[1:]\n",
    "for i,file in enumerate(files):\n",
    "    df = pd.read_csv(file)\n",
    "    df = df.set_index(pd.DatetimeIndex(pd.to_datetime(df[df.columns[0]]))) \n",
    "    df =df.y_pred\n",
    "    if i == 0:\n",
    "        all_df = df\n",
    "    else:\n",
    "        all_df = pd.concat((all_df,df))\n",
    "all_df.to_csv('all_xg.csv')"
   ]
  },
  {
   "cell_type": "code",
   "execution_count": 4,
   "metadata": {},
   "outputs": [],
   "source": [
    "#NO NEED EVERYTHING BELOW\n",
    "def minMax(x):\n",
    "    return pd.Series(index=['min','max'],data=[x.min(),x.max()])\n",
    "minMax = df.apply(minMax).transpose()"
   ]
  },
  {
   "cell_type": "code",
   "execution_count": 9,
   "metadata": {},
   "outputs": [],
   "source": [
    "columns = ['time', 'b1', 'b2', 'b3', 'b4', 'b5', 'b6', 'b7', 'b8', 'b9',\n",
    "       'b10', 'b11', 'b12', 'b13', 'b14', 'b15', 'b16', 'b17', 'b18', 'b19',\n",
    "       'b20', 'b21', 'b22', 'b23', 'b24', 'b25', 'b26', 'b27', 'b28', 'b29',\n",
    "       'b30', 'b31', 'b32', 'b33', 'b34', 'b35', 'b36', 'b37', 'b38', 'b39',\n",
    "       'b40', 'b41', 's1', 's2', 's3', 's4', 's5', 's6', 's7', 's8', 's9',\n",
    "       's10', 's11', 's12', 's13', 's14', 's15', 's16', 's17', 's18', 's19',\n",
    "       's20', 's21', 's22', 's23', 's24', 's25', 's26', 's27', 's28', 's29',\n",
    "       's30', 's31', 's32', 's33', 's34', 's35', 's36', 's37', 's38', 's39',\n",
    "       's40', 's41', 's42', 's43', 's44', 's45', 's46', 's47', 's48', 's49',\n",
    "       's50', 'y_1m', 'y_5m', 'y_10m', 'y_15m', 'y_30m', 'y_hat1', 'y_hat2',\n",
    "       'y_hat3']\n",
    "df = pd.read_csv(files_train[0])\n",
    "test = pd.read_csv(files_test[0],header=None,names=columns)"
   ]
  },
  {
   "cell_type": "code",
   "execution_count": 10,
   "metadata": {},
   "outputs": [],
   "source": [
    "df = df.set_index(pd.DatetimeIndex(pd.to_datetime(df[df.columns[0]])))\n",
    "target = df.y_10m\n",
    "df = df.drop(['s19','s24','Unnamed: 0',\"y_1m\",\"y_5m\",\"y_10m\",\"y_15m\",\"y_30m\",\"y_hat1\",\"y_hat2\",\"y_hat3\"],axis=1)\n",
    "df = df.fillna(0)\n",
    "df2 = np.array(df.tail(10000))\n",
    "test = test.set_index(pd.DatetimeIndex(pd.to_datetime(test[test.columns[0]])))\n",
    "target_test = test.y_10m\n",
    "test = test.drop(['s19','s24','time',\"y_1m\",\"y_5m\",\"y_10m\",\"y_15m\",\"y_30m\",\"y_hat1\",\"y_hat2\",\"y_hat3\"],axis=1)\n",
    "test = test.fillna(0)\n",
    "test2 = np.array(test)"
   ]
  },
  {
   "cell_type": "code",
   "execution_count": 11,
   "metadata": {},
   "outputs": [],
   "source": [
    "transformer = RecurrencePlot()\n",
    "df_temp1 = transformer.fit_transform(df2)"
   ]
  },
  {
   "cell_type": "code",
   "execution_count": null,
   "metadata": {},
   "outputs": [],
   "source": [
    "transformer2 = GramianAngularField()\n",
    "df_temp2 = transformer2.fit_transform(df2)"
   ]
  },
  {
   "cell_type": "code",
   "execution_count": null,
   "metadata": {},
   "outputs": [],
   "source": [
    "transformer3 = MarkovTransitionField()\n",
    "df_temp3 = transformer3.fit_transform(df2)"
   ]
  },
  {
   "cell_type": "code",
   "execution_count": 17,
   "metadata": {},
   "outputs": [
    {
     "data": {
      "text/plain": [
       "(10000, 7921)"
      ]
     },
     "execution_count": 17,
     "metadata": {},
     "output_type": "execute_result"
    }
   ],
   "source": [
    "df2 = (df_temp1+df_temp2+df_temp3)/3\n",
    "df2 = np.array(df2).reshape(len(df2),df2.shape[1] * df2.shape[1])\n",
    "df2.shape"
   ]
  },
  {
   "cell_type": "code",
   "execution_count": 20,
   "metadata": {},
   "outputs": [
    {
     "name": "stdout",
     "output_type": "stream",
     "text": [
      "[15:16:12] WARNING: C:/Jenkins/workspace/xgboost-win64_release_0.90/src/objective/regression_obj.cu:152: reg:linear is now deprecated in favor of reg:squarederror.\n"
     ]
    },
    {
     "data": {
      "text/plain": [
       "XGBRegressor(base_score=0.5, booster='gbtree', colsample_bylevel=1,\n",
       "       colsample_bynode=1, colsample_bytree=1, gamma=0, gpu_id=0,\n",
       "       importance_type='gain', learning_rate=0.1, max_delta_step=0,\n",
       "       max_depth=3, min_child_weight=1, missing=None, n_estimators=100,\n",
       "       n_jobs=1, nthread=8, objective='reg:linear', random_state=0,\n",
       "       reg_alpha=0, reg_lambda=1, scale_pos_weight=1, seed=None,\n",
       "       silent=None, subsample=1, verbose=2, verbosity=1)"
      ]
     },
     "execution_count": 20,
     "metadata": {},
     "output_type": "execute_result"
    }
   ],
   "source": [
    "import xgboost as xg\n",
    "model = xg.XGBRegressor(verbose=2,gpu_id=0,nthread=8)\n",
    "model.fit(np.array(df2[-1000:]),np.array(target.tail(1000)))"
   ]
  },
  {
   "cell_type": "code",
   "execution_count": 28,
   "metadata": {},
   "outputs": [
    {
     "name": "stdout",
     "output_type": "stream",
     "text": [
      "accuracy_score0.4666\n",
      "cor-0.07916259708976599\n"
     ]
    }
   ],
   "source": [
    "test2 = transformer.transform(test[10000:20000])\n",
    "\n",
    "df2 = (df_temp1+df_temp2+df_temp3)/3\n",
    "test2 = np.array(test2).reshape(len(test2),test2.shape[1] * test2.shape[1])\n",
    "y_pred = model.predict(test2)\n",
    "print(\"accuracy_score\" + str(accuracy_score(np.sign(np.array(target_test[10000:20000])),np.sign(y_pred))))\n",
    "#lin = np.linspace(0,1,101)\n",
    "#print(pd.DataFrame(y_pred).quantile(lin))\n",
    "print(\"cor\" + str(np.corrcoef(target_test[10000:20000],y_pred)[0,1]))\n",
    "pd.DataFrame({'index':test.index[10000:20000],'y_pred':y_pred,'target_test':target_test[10000:20000]}).to_csv(\"xg\" + str(0) + \".csv\")"
   ]
  }
 ],
 "metadata": {
  "kernelspec": {
   "display_name": "Python 3",
   "language": "python",
   "name": "python3"
  },
  "language_info": {
   "codemirror_mode": {
    "name": "ipython",
    "version": 3
   },
   "file_extension": ".py",
   "mimetype": "text/x-python",
   "name": "python",
   "nbconvert_exporter": "python",
   "pygments_lexer": "ipython3",
   "version": "3.6.5"
  }
 },
 "nbformat": 4,
 "nbformat_minor": 2
}
