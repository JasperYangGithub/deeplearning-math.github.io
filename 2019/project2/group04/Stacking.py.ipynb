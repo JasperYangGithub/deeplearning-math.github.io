{
 "cells": [
  {
   "cell_type": "code",
   "execution_count": 46,
   "metadata": {},
   "outputs": [],
   "source": [
    "import pandas as pd\n",
    "import numpy as np\n",
    "import glob\n",
    "import os\n",
    "from lstm_model import *\n",
    "from sklearn.linear_model import Ridge"
   ]
  },
  {
   "cell_type": "code",
   "execution_count": 2,
   "metadata": {},
   "outputs": [],
   "source": [
    "files = ['all_rocket.csv','all_attlstm.csv','all_resnet.csv','IF.csv']\n",
    "df = pd.read_csv(files[0])\n",
    "df = df.set_index(pd.DatetimeIndex(pd.to_datetime(df[df.columns[0]]))) \n",
    "df2 = pd.read_csv(files[1])\n",
    "df2 = df2.set_index(pd.DatetimeIndex(pd.to_datetime(df2[df2.columns[0]]))) \n",
    "df3 = pd.read_csv(files[2])\n",
    "df3 = df3.set_index(pd.DatetimeIndex(pd.to_datetime(df3[df3.columns[0]])))\n",
    "df4 = pd.read_csv(files[3])\n",
    "df4 = df4.set_index(pd.DatetimeIndex(pd.to_datetime(df4[df4.columns[0]])))"
   ]
  },
  {
   "cell_type": "code",
   "execution_count": 3,
   "metadata": {},
   "outputs": [],
   "source": [
    "data = df.join(df2,lsuffix='att').join(df3,lsuffix='res').join(df4,lsuffix='lin')"
   ]
  },
  {
   "cell_type": "code",
   "execution_count": 4,
   "metadata": {},
   "outputs": [],
   "source": [
    "data = data.dropna()\n",
    "data = data[['IFatt','IFres','IFlin','IF']]"
   ]
  },
  {
   "cell_type": "code",
   "execution_count": 5,
   "metadata": {},
   "outputs": [],
   "source": [
    "target = pd.read_csv('y.csv')"
   ]
  },
  {
   "cell_type": "code",
   "execution_count": 6,
   "metadata": {},
   "outputs": [],
   "source": [
    "target = target.set_index(pd.DatetimeIndex(pd.to_datetime(target[target.columns[0]])))\n",
    "data = data.join(pd.DataFrame(target.y_10m))"
   ]
  },
  {
   "cell_type": "code",
   "execution_count": 7,
   "metadata": {},
   "outputs": [],
   "source": [
    "target = data.y_10m\n",
    "data = data.drop(['y_10m'],axis=1)\n",
    "index = data.index"
   ]
  },
  {
   "cell_type": "code",
   "execution_count": 48,
   "metadata": {},
   "outputs": [],
   "source": [
    "data = np.array(data)#.reshape(len(data),data.shape[2])"
   ]
  },
  {
   "cell_type": "code",
   "execution_count": 9,
   "metadata": {},
   "outputs": [],
   "source": [
    "target = np.array(target).reshape(len(target),)"
   ]
  },
  {
   "cell_type": "code",
   "execution_count": 10,
   "metadata": {},
   "outputs": [],
   "source": [
    "import xgboost as xgb"
   ]
  },
  {
   "cell_type": "code",
   "execution_count": 73,
   "metadata": {},
   "outputs": [
    {
     "name": "stdout",
     "output_type": "stream",
     "text": [
      "Fitting 5 folds for each of 16 candidates, totalling 80 fits\n"
     ]
    },
    {
     "name": "stderr",
     "output_type": "stream",
     "text": [
      "[Parallel(n_jobs=-1)]: Using backend LokyBackend with 8 concurrent workers.\n",
      "[Parallel(n_jobs=-1)]: Done  34 tasks      | elapsed:    6.0s\n",
      "[Parallel(n_jobs=-1)]: Done  80 out of  80 | elapsed:    9.0s finished\n"
     ]
    },
    {
     "data": {
      "text/plain": [
       "GridSearchCV(cv=5, error_score='raise-deprecating',\n",
       "       estimator=Ridge(alpha=1.0, copy_X=True, fit_intercept=True, max_iter=None,\n",
       "   normalize=False, random_state=None, solver='auto', tol=0.001),\n",
       "       fit_params=None, iid='warn', n_jobs=-1,\n",
       "       param_grid={'alpha': [25, 10, 4, 2, 1.0, 0.8, 0.5, 0.3, 0.2, 0.1, 0.05, 0.02, 0.01, 0.001, 0.0001, 0]},\n",
       "       pre_dispatch='2*n_jobs', refit=True, return_train_score='warn',\n",
       "       scoring='neg_mean_squared_error', verbose=1)"
      ]
     },
     "execution_count": 73,
     "metadata": {},
     "output_type": "execute_result"
    }
   ],
   "source": [
    "classifier = Ridge()\n",
    "parameters = {\n",
    "                'alpha': [25,10,4,2,1.0,0.8,0.5,0.3,0.2,0.1,0.05,0.02,0.01,0.001,0.0001,0]\n",
    "                }\n",
    "clf = GridSearchCV(classifier,\n",
    "                           parameters,\n",
    "                           verbose=1, \n",
    "                           scoring=\"neg_mean_squared_error\",\n",
    "                           cv=5,\n",
    "                           n_jobs=-1,\n",
    "                  )\n",
    "clf.fit(data[:int(1e6),:3],target[:int(1e6)])"
   ]
  },
  {
   "cell_type": "code",
   "execution_count": 96,
   "metadata": {},
   "outputs": [
    {
     "data": {
      "text/plain": [
       "Ridge(alpha=3, copy_X=True, fit_intercept=False, max_iter=None,\n",
       "   normalize=False, random_state=None, solver='auto', tol=0.001)"
      ]
     },
     "execution_count": 96,
     "metadata": {},
     "output_type": "execute_result"
    }
   ],
   "source": [
    "classifier = Ridge(alpha=3, fit_intercept=False)\n",
    "classifier.fit(data[:int(1e6),:3],target[:int(1e6)])"
   ]
  },
  {
   "cell_type": "code",
   "execution_count": 97,
   "metadata": {},
   "outputs": [
    {
     "name": "stdout",
     "output_type": "stream",
     "text": [
      "             0\n",
      "0.00 -0.000244\n",
      "0.25 -0.000036\n",
      "0.50 -0.000020\n",
      "0.75 -0.000002\n",
      "1.00  0.000246\n"
     ]
    }
   ],
   "source": [
    "y_pred = classifier.predict(data[int(1e6):,:3])\n",
    "#y_pred = np.concatenate(y_pred)\n",
    "#print(\"accuracy_score\" + str(accuracy_score(np.sign(np.array(target_test)),np.sign(y_pred))))\n",
    "lin = np.linspace(0,1,5)\n",
    "print(pd.DataFrame(y_pred).quantile(lin))"
   ]
  },
  {
   "cell_type": "code",
   "execution_count": 98,
   "metadata": {},
   "outputs": [
    {
     "name": "stdout",
     "output_type": "stream",
     "text": [
      "cor: 0.029512706307931146\n"
     ]
    }
   ],
   "source": [
    "print(\"cor: \" + str(np.corrcoef(target[int(1e6):],y_pred)[0,1]))\n",
    "pd.DataFrame({'index':index[int(1e6):],'y_pred':y_pred}).to_csv(\"all.csv\",index=False)"
   ]
  },
  {
   "cell_type": "code",
   "execution_count": 99,
   "metadata": {},
   "outputs": [
    {
     "data": {
      "text/plain": [
       "array([ 0.47114044, -0.04624457,  0.57510412])"
      ]
     },
     "execution_count": 99,
     "metadata": {},
     "output_type": "execute_result"
    }
   ],
   "source": [
    "coefs = classifier.coef_/sum(classifier.coef_)\n",
    "coefs"
   ]
  },
  {
   "cell_type": "code",
   "execution_count": null,
   "metadata": {},
   "outputs": [],
   "source": []
  }
 ],
 "metadata": {
  "kernelspec": {
   "display_name": "Python 3",
   "language": "python",
   "name": "python3"
  },
  "language_info": {
   "codemirror_mode": {
    "name": "ipython",
    "version": 3
   },
   "file_extension": ".py",
   "mimetype": "text/x-python",
   "name": "python",
   "nbconvert_exporter": "python",
   "pygments_lexer": "ipython3",
   "version": "3.6.5"
  }
 },
 "nbformat": 4,
 "nbformat_minor": 2
}
