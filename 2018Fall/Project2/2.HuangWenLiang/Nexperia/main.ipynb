{
 "cells": [
  {
   "cell_type": "code",
   "execution_count": null,
   "metadata": {},
   "outputs": [],
   "source": [
    "from __future__ import print_function\n",
    "import argparse\n",
    "import torch\n",
    "import torch.nn as nn\n",
    "import torch.nn.functional as F\n",
    "import torch.optim as optim\n",
    "from torchvision import datasets, transforms\n",
    "import matplotlib.pyplot as plt\n",
    "import numpy as np\n",
    "import pandas as pd\n",
    "from PIL import Image\n",
    "from preprocess import load_data\n",
    "from dataset import DriveData\n",
    "import warnings\n",
    "warnings.filterwarnings('ignore')"
   ]
  },
  {
   "cell_type": "code",
   "execution_count": null,
   "metadata": {},
   "outputs": [],
   "source": [
    "(X_train, y_train), (X_val, y_val), (X_test,test_id) = load_data(center_width=224)\n",
    "train_mean = X_train.mean()\n",
    "train_std = X_train.std()\n",
    "print('X_train shape:', X_train.shape)\n",
    "print('X_val shape:', X_val.shape)\n",
    "print('X_test shape:', X_test.shape)\n",
    "print('train_mean:', train_mean)\n",
    "print('train_std:', train_std)"
   ]
  },
  {
   "cell_type": "code",
   "execution_count": 31,
   "metadata": {},
   "outputs": [],
   "source": [
    "def train(model, device, train_loader, optimizer, epoch):\n",
    "    # switch to training mode\n",
    "    model.train()\n",
    "    correct = 0\n",
    "    train_loss = 0\n",
    "    for batch_idx, (data, target) in enumerate(train_loader):\n",
    "        data, target = data.to(device), target.to(device)\n",
    "        optimizer.zero_grad()\n",
    "        output = model(data)\n",
    "        \n",
    "        loss = F.nll_loss(F.log_softmax(output), target)\n",
    "        \n",
    "        loss.backward()\n",
    "        optimizer.step()   \n",
    "        if batch_idx % log_interval == 0:\n",
    "            print('Train Epoch: {} [{}/{} ({:.0f}%)]\\tLoss: {:.8f}'.format(\n",
    "                epoch, batch_idx * len(data), len(train_loader.dataset),\n",
    "                100. * batch_idx / len(train_loader), loss.item()))\n",
    "\n",
    "            \n",
    "            \n",
    "def test(model, device, test_loader, mode):\n",
    "    # switch to evluation mode\n",
    "    model.eval()\n",
    "    test_loss = 0\n",
    "    correct = 0\n",
    "    with torch.no_grad():\n",
    "        for data, target in test_loader:\n",
    "            data, target = data.to(device), target.to(device)\n",
    "            output = model(data)\n",
    "            \n",
    "            test_loss += F.nll_loss(F.log_softmax(output), target, reduction='sum').item() # sum up batch loss\n",
    "            \n",
    "            pred = output.max(1, keepdim=True)[1] # get the index of the max log-probability\n",
    "            correct += pred.eq(target.view_as(pred)).sum().item()\n",
    "\n",
    "    test_loss /= len(test_loader.dataset)\n",
    "    test_acc =  correct / len(test_loader.dataset)\n",
    "    print('\\n', mode, 'set: Average loss: {:.4f}, Accuracy: {}/{} ({:.8f}%)\\n'.format(\n",
    "        test_loss, correct, len(test_loader.dataset),\n",
    "        100. * test_acc))\n",
    "    return test_loss, test_acc\n",
    " \n",
    "    \n",
    "def main(model, batch_size=16, lr=1e-3, momentum=0.5, epochs=150, weight_decay=1e-8, no_cuda=True, step_size=15, gamma=0.5):\n",
    "    # cpu or gpu\n",
    "    print('batch_size:', batch_size,\"lr:\",lr, 'momentum:', momentum)\n",
    "    use_cuda = not no_cuda and torch.cuda.is_available()\n",
    "    print('use_cude:', use_cuda)\n",
    "    torch.manual_seed(seed)\n",
    "    device = torch.device(\"cuda:0\" if use_cuda else \"cpu\")\n",
    "    kwargs = {'num_workers': 4, 'pin_memory': True} if use_cuda else {}\n",
    "    model.to(device)\n",
    "    \n",
    "    # download data\n",
    "    transform = transforms.Compose([\n",
    "        transforms.ToTensor(),\n",
    "        transforms.Normalize(mean=[train_mean,],\n",
    "                             std=[train_std,])\n",
    "    ])\n",
    "    train_loader = torch.utils.data.DataLoader(DriveData(X_train, y_train, transform),\n",
    "                    batch_size=batch_size, shuffle=True, **kwargs)\n",
    "    \n",
    "    test_loader = torch.utils.data.DataLoader(DriveData(X_val, y_val, transform),\n",
    "        batch_size=batch_size, shuffle=True, **kwargs)\n",
    "    \n",
    "    # optimizer\n",
    "    optimizer = optim.SGD(model.parameters(), momentum=momentum,lr=lr, weight_decay=weight_decay)\n",
    "    \n",
    "    scheduler = optim.lr_scheduler.StepLR(optimizer, step_size=step_size, gamma=gamma)\n",
    "    \n",
    "    global best_val_acc\n",
    "    global best_model\n",
    "    for epoch in range(1, epochs + 1):    \n",
    "        scheduler.step()\n",
    "        train(model, device, train_loader, optimizer, epoch)\n",
    "        tr_loss, tr_acc = test(model, device, train_loader, 'train') \n",
    "        te_loss, te_acc = test(model, device, test_loader, 'test')  \n",
    "        loss[epoch-1,0] = tr_loss\n",
    "        loss[epoch-1,1] = te_loss\n",
    "        accuracy[epoch-1,0] = tr_acc\n",
    "        accuracy[epoch-1,1] = te_acc\n",
    "        log = pd.DataFrame(columns=['loss_train','loss_val','acc_train','acc_test'])\n",
    "        log['loss_train'] = loss[:,0]\n",
    "        log['loss_val'] = loss[:,1]\n",
    "        log['acc_train'] = accuracy[:,0]\n",
    "        log['acc_test'] = accuracy[:,1]\n",
    "        log.to_csv('log.csv',index=False)\n",
    "        if te_acc >= best_val_acc:\n",
    "            best_val_acc = te_acc\n",
    "            best_model = vgg16_bn(pretrained=False)\n",
    "            best_model.load_state_dict(model.state_dict())\n",
    "            print('best val acc:', best_val_acc)\n",
    "    return\n",
    "        "
   ]
  },
  {
   "cell_type": "code",
   "execution_count": 32,
   "metadata": {},
   "outputs": [],
   "source": [
    "def predict(X, model, device, batch_size=32): \n",
    "    model.eval()\n",
    "    y_pred = []\n",
    "    out = np.array([])\n",
    "    transform = transforms.Compose([\n",
    "        transforms.ToTensor(),\n",
    "        transforms.Normalize(mean=[train_mean,],\n",
    "                             std=[train_std,])\n",
    "        ])\n",
    "    _y = np.zeros(X.shape[0])\n",
    "    kwargs = {'num_workers': 1, 'pin_memory': True}\n",
    "    test_loader = torch.utils.data.DataLoader(DriveData(X, _y, transform),\n",
    "        batch_size=batch_size, shuffle=False, **kwargs)\n",
    "    with torch.no_grad():\n",
    "        for data, target in test_loader:\n",
    "            data = data.to(device)\n",
    "            output = model(data)\n",
    "            output = F.softmax(output)\n",
    "            out = np.append(out, np.array(output)[:,1])\n",
    "            pred = output.max(1, keepdim=True)[1] # get the index of the max log-probability\n",
    "            y_pred += pred.tolist()\n",
    "    return np.array(y_pred).reshape(len(y_pred)), out"
   ]
  },
  {
   "cell_type": "code",
   "execution_count": 33,
   "metadata": {},
   "outputs": [],
   "source": [
    "def plot(loss, accuracy):\n",
    "    plt.figure(figsize=(8,10))\n",
    "    \n",
    "    plt.subplot(2,1,1)\n",
    "    plt.plot(loss[:,0], 'o-')\n",
    "    plt.plot(loss[:,1], '.-')\n",
    "    plt.legend(['train', 'test'])\n",
    "    plt.xlabel('epoch')\n",
    "    plt.title('loss')\n",
    "    \n",
    "    plt.subplot(2,1,2)\n",
    "    plt.plot(accuracy[:,0], 'o-')\n",
    "    plt.plot(accuracy[:,1], '.-')\n",
    "    plt.legend(['train', 'test'])\n",
    "    plt.title('accuracy')\n",
    "    plt.xlabel('epoch')"
   ]
  },
  {
   "cell_type": "code",
   "execution_count": 34,
   "metadata": {},
   "outputs": [],
   "source": [
    "seed = 1\n",
    "log_interval = 40\n",
    "in_channels  = 1\n",
    "threshold = 0"
   ]
  },
  {
   "cell_type": "markdown",
   "metadata": {},
   "source": [
    "## VGG"
   ]
  },
  {
   "cell_type": "code",
   "execution_count": 35,
   "metadata": {},
   "outputs": [],
   "source": [
    "from vgg import *"
   ]
  },
  {
   "cell_type": "code",
   "execution_count": 36,
   "metadata": {},
   "outputs": [],
   "source": [
    "model_vgg = vgg16_bn(pretrained=False)"
   ]
  },
  {
   "cell_type": "code",
   "execution_count": 37,
   "metadata": {},
   "outputs": [],
   "source": [
    "#model_vgg.train()"
   ]
  },
  {
   "cell_type": "code",
   "execution_count": null,
   "metadata": {
    "scrolled": true
   },
   "outputs": [
    {
     "name": "stdout",
     "output_type": "stream",
     "text": [
      "batch_size: 32 lr: 0.01 momentum: 0.5\n",
      "use_cude: True\n",
      "Train Epoch: 1 [0/24000 (0%)]\tLoss: 0.71279424\n",
      "Train Epoch: 1 [1280/24000 (5%)]\tLoss: 0.49399912\n",
      "Train Epoch: 1 [2560/24000 (11%)]\tLoss: 0.31169057\n",
      "Train Epoch: 1 [3840/24000 (16%)]\tLoss: 0.30377999\n",
      "Train Epoch: 1 [5120/24000 (21%)]\tLoss: 0.32704148\n",
      "Train Epoch: 1 [6400/24000 (27%)]\tLoss: 0.38937047\n",
      "Train Epoch: 1 [7680/24000 (32%)]\tLoss: 0.11330115\n",
      "Train Epoch: 1 [8960/24000 (37%)]\tLoss: 0.14882436\n",
      "Train Epoch: 1 [10240/24000 (43%)]\tLoss: 0.35452303\n",
      "Train Epoch: 1 [11520/24000 (48%)]\tLoss: 0.51941878\n",
      "Train Epoch: 1 [12800/24000 (53%)]\tLoss: 0.53862023\n",
      "Train Epoch: 1 [14080/24000 (59%)]\tLoss: 0.11248161\n",
      "Train Epoch: 1 [15360/24000 (64%)]\tLoss: 0.37302232\n",
      "Train Epoch: 1 [16640/24000 (69%)]\tLoss: 0.46049169\n",
      "Train Epoch: 1 [17920/24000 (75%)]\tLoss: 0.41195703\n",
      "Train Epoch: 1 [19200/24000 (80%)]\tLoss: 0.42012355\n",
      "Train Epoch: 1 [20480/24000 (85%)]\tLoss: 0.64488471\n",
      "Train Epoch: 1 [21760/24000 (91%)]\tLoss: 0.21569668\n",
      "Train Epoch: 1 [23040/24000 (96%)]\tLoss: 0.22766472\n",
      "\n",
      " train set: Average loss: 0.2634, Accuracy: 21947/24000 (91.44583333%)\n",
      "\n",
      "\n",
      " test set: Average loss: 0.2681, Accuracy: 5489/6000 (91.48333333%)\n",
      "\n",
      "best val acc: 0.9148333333333334\n",
      "Train Epoch: 2 [0/24000 (0%)]\tLoss: 0.15537511\n",
      "Train Epoch: 2 [1280/24000 (5%)]\tLoss: 0.24011879\n",
      "Train Epoch: 2 [2560/24000 (11%)]\tLoss: 0.21724188\n",
      "Train Epoch: 2 [3840/24000 (16%)]\tLoss: 0.31556010\n",
      "Train Epoch: 2 [5120/24000 (21%)]\tLoss: 0.32676613\n",
      "Train Epoch: 2 [6400/24000 (27%)]\tLoss: 0.15216646\n",
      "Train Epoch: 2 [7680/24000 (32%)]\tLoss: 0.10134972\n"
     ]
    }
   ],
   "source": [
    "best_model = None\n",
    "best_val_acc = 0\n",
    "epochs=100\n",
    "loss = np.zeros((epochs,2))\n",
    "accuracy = np.zeros((epochs,2))\n",
    "main(model_vgg, \n",
    "      batch_size=32,\n",
    "      weight_decay=1e-8,\n",
    "      lr=1e-2,\n",
    "      momentum=0.5,\n",
    "      epochs=epochs,\n",
    "      step_size=20,\n",
    "      gamma=0.5,\n",
    "      no_cuda=False)"
   ]
  },
  {
   "cell_type": "code",
   "execution_count": 35,
   "metadata": {},
   "outputs": [],
   "source": [
    "#torch.save(model_vgg, 'model_vgg_97766.pkl')\n",
    "#model = torch.load('model_vgg_97766.pkl')"
   ]
  },
  {
   "cell_type": "code",
   "execution_count": 11,
   "metadata": {},
   "outputs": [
    {
     "data": {
      "image/png": "[encoded data removed]",
      "text/plain": [
       "<Figure size 576x720 with 2 Axes>"
      ]
     },
     "metadata": {
      "needs_background": "light"
     },
     "output_type": "display_data"
    }
   ],
   "source": [
    "# vgg_16bn, weight_decay = 1e-8, 3*fc, widht=224, SGD, lr=1e-2, step_size=5, gamma=0.5, epoch =50, momentum=0.5\n",
    "# ACC=0.97766, F=0.1739  ,fair_accuracy = 0.9523\n",
    "plot(loss_vgg, accuracy_vgg)"
   ]
  },
  {
   "cell_type": "markdown",
   "metadata": {},
   "source": [
    "### Create final submission"
   ]
  },
  {
   "cell_type": "code",
   "execution_count": 30,
   "metadata": {},
   "outputs": [],
   "source": [
    "y_pred,output = predict(X_test, model_vgg, device=torch.device(\"cuda:3\"))\n",
    "result = pd.DataFrame(columns=['id', 'label'])\n",
    "result['id'] = test_id\n",
    "result['label'] = output\n",
    "result.to_csv('submition.csv',index=False)"
   ]
  },
  {
   "cell_type": "code",
   "execution_count": null,
   "metadata": {},
   "outputs": [],
   "source": []
  }
 ],
 "metadata": {
  "kernelspec": {
   "display_name": "Python 3",
   "language": "python",
   "name": "python3"
  },
  "language_info": {
   "codemirror_mode": {
    "name": "ipython",
    "version": 3
   },
   "file_extension": ".py",
   "mimetype": "text/x-python",
   "name": "python",
   "nbconvert_exporter": "python",
   "pygments_lexer": "ipython3",
   "version": "3.6.8"
  }
 },
 "nbformat": 4,
 "nbformat_minor": 2
}
