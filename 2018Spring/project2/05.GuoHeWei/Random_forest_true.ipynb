{
 "cells": [
  {
   "cell_type": "markdown",
   "metadata": {},
   "source": [
    "# A Random Forest approach for anomaly detection \n",
    "## Shaopeng Guo, Zhou He, Tianhan Wei\n",
    "This notebook provides a walkthrough of using either one day or three days' data to train a random forest classifier and predict whether there will be any machine anomaly in the coming day. \n",
    "\n",
    "#### The best result achieved using this model was 0.65324, ranked second on the Kaggle leaderboard (the entry by Samuel He)."
   ]
  },
  {
   "cell_type": "code",
   "execution_count": 3,
   "metadata": {},
   "outputs": [],
   "source": [
    "import pandas as pd\n",
    "import numpy as np\n",
    "from sklearn.ensemble import RandomForestClassifier\n",
    "from sklearn.preprocessing import Imputer\n",
    "from sklearn.model_selection import StratifiedShuffleSplit as stratifiedsplit\n",
    "from sklearn.metrics import roc_auc_score, roc_curve, auc\n",
    "import matplotlib.pyplot as plt"
   ]
  },
  {
   "cell_type": "markdown",
   "metadata": {},
   "source": [
    "### Preprocess the data. \n",
    "All the missing blanks in the data are imputed by the mean of other data points in the same column;\n",
    "\n",
    "Either the columns of the previous one day or previous three days will be used as feature, with the status 0/1 of the next day being the label;\n",
    "\n",
    "It was proven by validation set that doing data normalization does not help boosting performance in this setting."
   ]
  },
  {
   "cell_type": "code",
   "execution_count": 4,
   "metadata": {},
   "outputs": [],
   "source": [
    "using_three_days_data = False\n",
    "\n",
    "# prepare the grand raw data x and y\n",
    "xl = pd.ExcelFile(\"feature_stripped.xlsx\")\n",
    "df = xl.parse(\"feature\")\n",
    "labels = pd.read_csv('train_label.csv')\n",
    "labels = labels.values[1:,1]\n",
    "features = df.values\n",
    "x = features[:,1:]\n",
    "y = labels\n",
    "imputer = Imputer(missing_values='NaN')\n",
    "x = imputer.fit_transform(x,y)\n",
    "y = y.astype(np.int32)\n",
    "\n",
    "if using_three_days_data:\n",
    "    x2 = np.zeros_like(x)\n",
    "    x2[1:,:] = x[:-1,:]\n",
    "    x3 = np.zeros_like(x)\n",
    "    x3[2:,:] = x[:-2:]\n",
    "    x = np.concatenate([x,x2,x3],axis=1)[2:,:]\n",
    "    print(x.shape)\n",
    "    y = y[2:]\n",
    "    print(y.shape)"
   ]
  },
  {
   "cell_type": "markdown",
   "metadata": {},
   "source": [
    "### Perform Stratified splitting (distribute the data samples to training set and validation set such that these two sets have the same proportion of positive labels)\n",
    "\n",
    "Training set has 70% of labeled data while validation set has 30%. Each set has the same percentage of positive labeled data.\n",
    "\n",
    "After stratified splitting, train a Random Forest Classifier using the train set with max depth = 2 and validate its ROC AUC score on validation set. The process is repeated for 100 times since there will be different ways to split the train+val data."
   ]
  },
  {
   "cell_type": "code",
   "execution_count": 38,
   "metadata": {},
   "outputs": [
    {
     "name": "stdout",
     "output_type": "stream",
     "text": [
      "The avearge AUC for these trials is  0.522379807692\n",
      "The highest AUC for these trials is  0.708934294872\n"
     ]
    }
   ],
   "source": [
    "splitter = stratifiedsplit(n_splits=100,test_size=0.3)\n",
    "aucs = []\n",
    "bestpred = None\n",
    "valyforbestpred = None\n",
    "bestclassifier = None\n",
    "highestscore = 0.0\n",
    "for train_index, val_index in splitter.split(x[:-300], y):\n",
    "    train_x, val_x = x[train_index], x[val_index]\n",
    "    train_y, val_y = y[train_index], y[val_index]\n",
    "    clf = RandomForestClassifier(max_depth=2, random_state=0)\n",
    "    clf.fit(train_x, train_y)\n",
    "    results = clf.predict_proba(val_x)[:,1]\n",
    "    aucscore = roc_auc_score(val_y,results)\n",
    "    if aucscore > highestscore:\n",
    "        highestscore = aucscore\n",
    "        bestpred = results\n",
    "        valyforbestpred = val_y\n",
    "        bestclassifier = clf\n",
    "    aucs.append(aucscore)\n",
    "print(\"The avearge AUC for these trials is \", np.average(aucs))\n",
    "print(\"The highest AUC for these trials is \", highestscore)"
   ]
  },
  {
   "cell_type": "markdown",
   "metadata": {},
   "source": [
    "### Plot the ROC curve to visualize the best model\n",
    "The best model (the one corresponding to the highest AUC obtained from the previous step) is visualized and utilized to generate the prediction on test set."
   ]
  },
  {
   "cell_type": "code",
   "execution_count": 39,
   "metadata": {},
   "outputs": [
    {
     "data": {
      "image/png": "[encoded data removed]",
      "text/plain": [
       "<matplotlib.figure.Figure at 0x11cff5198>"
      ]
     },
     "metadata": {},
     "output_type": "display_data"
    }
   ],
   "source": [
    "#plot ROC curve\n",
    "fpr, tpr, _ = roc_curve(valyforbestpred, bestpred)\n",
    "rocauc = auc(fpr, tpr)\n",
    "plt.figure()\n",
    "lw = 2\n",
    "plt.plot(fpr, tpr, color='darkorange',\n",
    "         lw=lw, label='ROC curve (area = %0.2f)' % rocauc)\n",
    "plt.plot([0, 1], [0, 1], color='navy', lw=lw, linestyle='--')\n",
    "plt.xlim([0.0, 1.0])\n",
    "plt.ylim([0.0, 1.05])\n",
    "plt.xlabel('False Positive Rate')\n",
    "plt.ylabel('True Positive Rate')\n",
    "plt.title('Receiver operating characteristic example')\n",
    "plt.legend(loc=\"lower right\")\n",
    "plt.show()"
   ]
  },
  {
   "cell_type": "markdown",
   "metadata": {},
   "source": [
    "### Write outputs to a CSV file"
   ]
  },
  {
   "cell_type": "code",
   "execution_count": 40,
   "metadata": {
    "collapsed": true
   },
   "outputs": [],
   "source": [
    "test_x = x[-300:,]\n",
    "result = bestclassifier.predict_proba(test_x)\n",
    "output = pd.read_csv('test_label_sample.csv')\n",
    "with open ('submission6.csv','w') as file:\n",
    "    file.write('date,label\\n')\n",
    "    for i in range(300):\n",
    "        file.write(str(output['date'][i]) + ','+str(result[i,1])+'\\n')"
   ]
  }
 ],
 "metadata": {
  "kernelspec": {
   "display_name": "Python 3",
   "language": "python",
   "name": "python3"
  },
  "language_info": {
   "codemirror_mode": {
    "name": "ipython",
    "version": 3
   },
   "file_extension": ".py",
   "mimetype": "text/x-python",
   "name": "python",
   "nbconvert_exporter": "python",
   "pygments_lexer": "ipython3",
   "version": "3.6.1"
  }
 },
 "nbformat": 4,
 "nbformat_minor": 2
}
