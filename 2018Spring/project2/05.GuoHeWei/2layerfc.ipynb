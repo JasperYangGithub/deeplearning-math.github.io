{
 "cells": [
  {
   "cell_type": "markdown",
   "metadata": {},
   "source": [
    "# 2-layer Fully Connected Network\n",
    "This piece of code uses a 2-layer fc network to predict the machine failure based on features in one day advanced.\n",
    "\n",
    "#### The best result achieved using this model was 0.65676, ranked TOP on the Kaggle leaderboard (the entry by Wei Tianhan)."
   ]
  },
  {
   "cell_type": "markdown",
   "metadata": {},
   "source": [
    "## Reading and preparing data"
   ]
  },
  {
   "cell_type": "code",
   "execution_count": 1,
   "metadata": {},
   "outputs": [],
   "source": [
    "%matplotlib inline\n",
    "import tensorflow as tf\n",
    "import numpy as np\n",
    "import random\n",
    "import csv\n",
    "import pandas as pd\n",
    "import warnings\n",
    "from sklearn.preprocessing import Imputer\n",
    "from sklearn.metrics import roc_auc_score, roc_curve, auc\n",
    "import matplotlib.pyplot as plt\n",
    "\n",
    "warnings.filterwarnings('ignore')\n",
    "#parameters\n",
    "batch_size = 50\n",
    "feature_length = 125\n",
    "niter = 2000\n",
    "ntries = 20\n",
    "\n",
    "xl = pd.ExcelFile(\"feature_stripped.xlsx\")\n",
    "df = xl.parse(\"feature\")\n",
    "labels = pd.read_csv('train_label.csv')\n",
    "labels = labels.values[1:,1]\n",
    "features = df.values\n",
    "x = features[:,1:]\n",
    "y = labels\n",
    "imputer = Imputer(missing_values='NaN')\n",
    "x = imputer.fit_transform(x,y)\n",
    "y = y.astype(np.int32)\n",
    "# stop\n",
    "train_x = x[:500,1:]\n",
    "val_x = x[500:683,1:]\n",
    "train_y = y[:500]\n",
    "val_y = y[500:]\n",
    "test_x = x[683:,1:]\n",
    "#normalize\n",
    "train_x = train_x/train_x.max(axis=0)\n",
    "train_x[np.isnan(train_x)] = 0\n",
    "val_x = val_x/val_x.max(axis=0)\n",
    "val_x[np.isnan(val_x)] = 0\n",
    "test_x = test_x/test_x.max(axis=0)\n",
    "test_x[np.isnan(test_x)] = 0"
   ]
  },
  {
   "cell_type": "markdown",
   "metadata": {},
   "source": [
    "## Define the network"
   ]
  },
  {
   "cell_type": "code",
   "execution_count": 37,
   "metadata": {
    "collapsed": true
   },
   "outputs": [],
   "source": [
    "#network\n",
    "x = tf.placeholder(tf.float32, [None, feature_length])\n",
    "prob = tf.placeholder_with_default(1.0, shape=())\n",
    "y1 = tf.layers.dense(inputs=x, units=32, activation=tf.nn.relu)\n",
    "y1d = tf.nn.dropout(y1,keep_prob=prob)\n",
    "y2 = tf.layers.dense(inputs=y1d, units=32, activation=tf.nn.relu)\n",
    "y2d = tf.nn.dropout(y1,keep_prob=prob)\n",
    "y3 = tf.layers.dense(inputs=y2d, units=1, activation=None)\n",
    "y4 = tf.nn.sigmoid(y3)\n",
    "\n",
    "#output\n",
    "y = y3\n",
    "y_ = tf.placeholder(tf.float32, [None, 1])"
   ]
  },
  {
   "cell_type": "markdown",
   "metadata": {},
   "source": [
    "## Training & Testing\n",
    "Due to the weakness of the model prediction power, in the training section, we train 20 models and pick out the best of these models based on performance on validation set. "
   ]
  },
  {
   "cell_type": "code",
   "execution_count": 38,
   "metadata": {},
   "outputs": [
    {
     "name": "stdout",
     "output_type": "stream",
     "text": [
      "1/20 AUC: 0.4730 Best AUC: 0.4730\n",
      "2/20 AUC: 0.4742 Best AUC: 0.4742\n",
      "3/20 AUC: 0.5380 Best AUC: 0.5380\n",
      "4/20 AUC: 0.6043 Best AUC: 0.6043\n",
      "5/20 AUC: 0.5003 Best AUC: 0.6043\n",
      "6/20 AUC: 0.5052 Best AUC: 0.6043\n",
      "7/20 AUC: 0.4905 Best AUC: 0.6043\n",
      "8/20 AUC: 0.4975 Best AUC: 0.6043\n",
      "9/20 AUC: 0.4862 Best AUC: 0.6043\n",
      "10/20 AUC: 0.4969 Best AUC: 0.6043\n",
      "11/20 AUC: 0.6000 Best AUC: 0.6043\n",
      "12/20 AUC: 0.5150 Best AUC: 0.6043\n",
      "13/20 AUC: 0.5518 Best AUC: 0.6043\n",
      "14/20 AUC: 0.5696 Best AUC: 0.6043\n",
      "15/20 AUC: 0.4377 Best AUC: 0.6043\n",
      "16/20 AUC: 0.4503 Best AUC: 0.6043\n",
      "17/20 AUC: 0.4712 Best AUC: 0.6043\n",
      "18/20 AUC: 0.4610 Best AUC: 0.6043\n",
      "19/20 AUC: 0.5132 Best AUC: 0.6043\n",
      "20/20 AUC: 0.5261 Best AUC: 0.6043\n"
     ]
    }
   ],
   "source": [
    "best = 0\n",
    "best_val_prediction = None\n",
    "\n",
    "for tries in range(ntries):\n",
    "    cross_entropy = tf.reduce_mean(tf.nn.weighted_cross_entropy_with_logits(targets=y_, logits=y, pos_weight=1))\n",
    "    train_step = tf.train.GradientDescentOptimizer(0.05).minimize(cross_entropy)\n",
    "    sess = tf.InteractiveSession()\n",
    "    tf.global_variables_initializer().run()\n",
    "    saver = tf.train.Saver()\n",
    "\n",
    "    for i in range(niter):\n",
    "        if niter == 1000:\n",
    "            train_step = tf.train.GradientDescentOptimizer(0.005).minimize(cross_entropy)\n",
    "        batch = np.zeros((batch_size, feature_length), dtype = np.float32)\n",
    "        label = np.zeros((batch_size, 1), dtype = np.float32)\n",
    "        for j in range(batch_size):\n",
    "            index = random.randint(0,train_x.shape[0]-1)\n",
    "            batch[j] = train_x[index]\n",
    "            label[j] = train_y[index]\n",
    "        _, loss = sess.run([train_step,cross_entropy], feed_dict={x: batch, y_: label, prob: 0.5})\n",
    "\n",
    "    #validation\n",
    "    val_score = np.zeros((val_x.shape[0],1), dtype = np.float32)\n",
    "    for i in range(val_x.shape[0]):\n",
    "        val_score[i] = sess.run(y4, feed_dict={x: val_x[i][np.newaxis,:]})\n",
    "    fpr, tpr, _ = roc_curve(val_y, val_score)\n",
    "    rocauc = auc(fpr, tpr)\n",
    "    if (rocauc > best):\n",
    "        best = rocauc\n",
    "        best_val_prediction = val_score\n",
    "        result = np.zeros((test_x.shape[0],1))\n",
    "        for i in range(test_x.shape[0]):\n",
    "            result[i] = sess.run(y4, feed_dict={x: test_x[i][np.newaxis,:], prob: 1.0})\n",
    "        \n",
    "        #testing\n",
    "        output = pd.read_csv('test_label_sample.csv')\n",
    "\n",
    "        with open ('submission.csv','w') as file:\n",
    "            file.write('date,label\\n')\n",
    "            for i in range(300):\n",
    "                file.write(str(output['date'][i]) + ','+str(result[i,0])+'\\n')\n",
    "\n",
    "    print '%s/%s AUC: %.4f Best AUC: %.4f' % (tries+1, ntries, rocauc, best)\n",
    "\n"
   ]
  },
  {
   "cell_type": "markdown",
   "metadata": {},
   "source": [
    "## Plotting ROC Curve"
   ]
  },
  {
   "cell_type": "code",
   "execution_count": 39,
   "metadata": {},
   "outputs": [
    {
     "data": {
      "image/png": "[encoded data removed]",
      "text/plain": [
       "<matplotlib.figure.Figure at 0x7f31b46a9f90>"
      ]
     },
     "metadata": {},
     "output_type": "display_data"
    }
   ],
   "source": [
    "#plot ROC curve\n",
    "fpr, tpr, _ = roc_curve(val_y, best_val_prediction)\n",
    "rocauc = auc(fpr, tpr)\n",
    "plt.figure()\n",
    "lw = 2\n",
    "plt.plot(fpr, tpr, color='darkorange',\n",
    "         lw=lw, label='ROC curve (area = %0.2f)' % rocauc)\n",
    "plt.plot([0, 1], [0, 1], color='navy', lw=lw, linestyle='--')\n",
    "plt.xlim([0.0, 1.0])\n",
    "plt.ylim([0.0, 1.05])\n",
    "plt.xlabel('False Positive Rate')\n",
    "plt.ylabel('True Positive Rate')\n",
    "plt.title('Receiver operating characteristic example')\n",
    "plt.legend(loc=\"lower right\")\n",
    "plt.show()\n"
   ]
  }
 ],
 "metadata": {
  "kernelspec": {
   "display_name": "Python 3",
   "language": "python",
   "name": "python3"
  },
  "language_info": {
   "codemirror_mode": {
    "name": "ipython",
    "version": 3
   },
   "file_extension": ".py",
   "mimetype": "text/x-python",
   "name": "python",
   "nbconvert_exporter": "python",
   "pygments_lexer": "ipython3",
   "version": "3.6.1"
  }
 },
 "nbformat": 4,
 "nbformat_minor": 2
}
