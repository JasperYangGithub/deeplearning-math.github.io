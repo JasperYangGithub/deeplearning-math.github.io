{
 "cells": [
  {
   "cell_type": "markdown",
   "metadata": {},
   "source": [
    "## randomized functions"
   ]
  },
  {
   "cell_type": "code",
   "execution_count": 1,
   "metadata": {
    "collapsed": true
   },
   "outputs": [],
   "source": [
    "import numpy as np"
   ]
  },
  {
   "cell_type": "code",
   "execution_count": 2,
   "metadata": {
    "collapsed": true
   },
   "outputs": [],
   "source": [
    "def standardize_imgs(imgs):\n",
    "    assert len(imgs.size()) == 4\n",
    "    for i in range(imgs.size(0)):\n",
    "        tmp = imgs[i].view(3, -1)\n",
    "        tmp_mean = tmp.mean(dim=1).numpy()\n",
    "        tmp_var = np.maximum(tmp.std(dim=1).numpy(), 1.0 / 28.0 / 28.0)\n",
    "\n",
    "        imgs[i] = (imgs[i] - torch.FloatTensor(tmp_mean).view(3, 1, 1)) / torch.FloatTensor(tmp_var).view(3,1,1)\n",
    "    return imgs"
   ]
  },
  {
   "cell_type": "markdown",
   "metadata": {},
   "source": [
    "## CNN without pooling"
   ]
  },
  {
   "cell_type": "code",
   "execution_count": 3,
   "metadata": {
    "collapsed": true
   },
   "outputs": [],
   "source": [
    "import torch\n",
    "import torch.nn as nn\n",
    "import torch.nn.functional as F\n",
    "\n",
    "from torch.autograd import Variable\n",
    "\n",
    "class CNN(nn.Module):\n",
    "    def __init__(self, nb):\n",
    "        super(CNN, self).__init__()\n",
    "        self.conv1 = nn.Conv2d(3, nb, 3)\n",
    "        #self.pool = nn.MaxPool2d(2, 2)\n",
    "        self.conv2 = nn.Conv2d(nb, nb, 3)\n",
    "        self.conv3 = nn.Conv2d(nb, nb, 3)\n",
    "        self.conv4 = nn.Conv2d(nb, nb, 3)\n",
    "        self.conv5 = nn.Conv2d(nb, nb, 3)\n",
    "        #self.fc1 = nn.Linear(nb * 18 * 18, 120)\n",
    "        #self.fc2 = nn.Linear(120, 84)\n",
    "        #self.fc3 = nn.Linear(84, 10)\n",
    "        self.fc = nn.Linear(nb * 18 * 18, 10)\n",
    "        \n",
    "    def forward(self, x):\n",
    "        x = F.relu(self.conv1(x))\n",
    "        x = F.relu(self.conv2(x))\n",
    "        x = F.relu(self.conv3(x))\n",
    "        x = F.relu(self.conv4(x))\n",
    "        x = F.relu(self.conv5(x))\n",
    "        #print(x.size())\n",
    "        x = x.view(-1, nb * 18 * 18)\n",
    "        #x = F.relu(self.fc1(x))\n",
    "        #x = F.relu(self.fc2(x))\n",
    "        #x = self.fc3(x)\n",
    "        x = self.fc(x)\n",
    "        return x"
   ]
  },
  {
   "cell_type": "markdown",
   "metadata": {},
   "source": [
    "## import cifar 10 dataset"
   ]
  },
  {
   "cell_type": "code",
   "execution_count": 4,
   "metadata": {
    "collapsed": true
   },
   "outputs": [],
   "source": [
    "import torch\n",
    "import torchvision\n",
    "import torchvision.transforms as transforms\n",
    "import torch.optim as optim"
   ]
  },
  {
   "cell_type": "code",
   "execution_count": 5,
   "metadata": {},
   "outputs": [
    {
     "name": "stdout",
     "output_type": "stream",
     "text": [
      "Files already downloaded and verified\n",
      "Files already downloaded and verified\n"
     ]
    }
   ],
   "source": [
    "transform = transforms.Compose(\n",
    "    [transforms.CenterCrop(28),\n",
    "     transforms.ToTensor()\n",
    "     ])\n",
    "\n",
    "\n",
    "trainset = torchvision.datasets.CIFAR10(root='./data', train=True,\n",
    "                                        download=True, transform=transform)\n",
    "trainloader = torch.utils.data.DataLoader(trainset, batch_size=100,\n",
    "                                          shuffle=True, num_workers=2)\n",
    "\n",
    "testset = torchvision.datasets.CIFAR10(root='./data', train=False,\n",
    "                                       download=True, transform=transform)\n",
    "testloader = torch.utils.data.DataLoader(testset, batch_size=100,\n",
    "                                         shuffle=False, num_workers=2)\n",
    "\n",
    "classes = ('plane', 'car', 'bird', 'cat',\n",
    "           'deer', 'dog', 'frog', 'horse', 'ship', 'truck')\n",
    "num_classes = len(classes)"
   ]
  },
  {
   "cell_type": "code",
   "execution_count": 6,
   "metadata": {
    "collapsed": true
   },
   "outputs": [],
   "source": [
    "pixel_mode = \"true_pixel\"\n",
    "label_mode = \"true_label\"\n",
    "\n",
    "criterion = nn.CrossEntropyLoss()\n",
    "\n",
    "def train(epoch, starting_step, optimizer, net):\n",
    "    # print(\"\\nepoch %d\" %epoch)\n",
    "    \n",
    "    total_loss = 0\n",
    "    total_samples = 0\n",
    "    total_corrects = 0\n",
    "#     print(\"starting_step is \",starting_step)\n",
    "    for i, (imgs, labels) in enumerate(trainloader):\n",
    "        imgs = standardize_imgs(imgs)\n",
    "\n",
    "        if use_cuda:\n",
    "            imgs = Variable(imgs).cuda()\n",
    "            labels = Variable(labels).cuda()\n",
    "        else:\n",
    "            imgs = Variable(imgs)\n",
    "            labels = Variable(labels)\n",
    "            \n",
    "        logits = net(imgs)\n",
    "        step_loss = criterion(logits, labels)\n",
    "        optimizer.zero_grad()\n",
    "        step_loss.backward()\n",
    "        optimizer.step()       \n",
    "        \n",
    "        batch_size = logits.size(0)\n",
    "        _, preds = torch.max(logits, 1)\n",
    "        total_samples += len(labels)\n",
    "        step_corrects = torch.sum(preds.data == labels.data)\n",
    "        total_corrects += step_corrects\n",
    "        total_loss += step_loss.data[0]\n",
    "    \n",
    "    train_acc = total_corrects * 1. / total_samples\n",
    "    total_loss = total_loss * 1. / total_samples\n",
    "            \n",
    "    return  starting_step + i, train_acc, total_loss\n",
    "\n",
    "def test(net):\n",
    "  \n",
    "    total_loss = 0\n",
    "    total_samples = 0\n",
    "    total_corrects = 0\n",
    "#     print(\"starting_step is \",starting_step)\n",
    "    for i, (imgs, labels) in enumerate(testloader):\n",
    "        imgs = standardize_imgs(imgs)\n",
    "\n",
    "        if use_cuda:\n",
    "            imgs = Variable(imgs).cuda()\n",
    "            labels = Variable(labels).cuda()\n",
    "        else:\n",
    "            imgs = Variable(imgs)\n",
    "            labels = Variable(labels)\n",
    "            \n",
    "        logits = net(imgs)\n",
    "        step_loss = criterion(logits, labels)\n",
    "             \n",
    "        batch_size = logits.size(0)\n",
    "        _, preds = torch.max(logits, 1)\n",
    "        total_samples += len(labels)\n",
    "        step_corrects = torch.sum(preds.data == labels.data)\n",
    "        total_corrects += step_corrects\n",
    "        \n",
    "        total_loss += step_loss.data[0]\n",
    "\n",
    "    total_acc = total_corrects * 1.0 / total_samples\n",
    "    total_loss = total_loss  / total_samples   \n",
    "        \n",
    "    print(\"test_acc %f, test_loss %f\" %(total_acc, total_loss))\n",
    "    return total_acc, total_loss\n",
    "\n",
    "        \n",
    "    "
   ]
  },
  {
   "cell_type": "code",
   "execution_count": null,
   "metadata": {
    "collapsed": true
   },
   "outputs": [],
   "source": [
    "def count_parameters(model):\n",
    "    return sum(p.numel() for p in model.parameters() if p.requires_grad)\n",
    "\n",
    "use_cuda = True\n",
    "import os\n",
    "os.environ[\"CUDA_VISIBLE_DEVICES\"] = '0'\n",
    "\n",
    "exp_dicts = {}\n",
    "for nb in [2,4,8,16,32,48,64,80,96,112,128,144,160,176,192,208,224,240,256]:\n",
    "    exp_dict = {}\n",
    "    net = CNN(nb)\n",
    "    if use_cuda: net = net.cuda()\n",
    "    print('nb_param:', count_parameters(net))\n",
    "    optimizer = optim.SGD(net.parameters(), lr=0.01, momentum=0.9)\n",
    "    \n",
    "    starting_step = 0 \n",
    "    for epoch in range(70):\n",
    "        total_step, train_acc, train_loss = train(epoch, starting_step, optimizer, net)\n",
    "        print(\"epoch %d, train_acc %f, train_loss %f\" %(epoch, train_acc, train_loss))\n",
    "        if train_acc == 1.0 or train_loss == 0.0:\n",
    "            break\n",
    "        starting_step  = total_step + 1\n",
    "    \n",
    "    test_acc, test_loss = test(net)\n",
    "    exp_dict['train_acc'] = train_acc\n",
    "    exp_dict['train_loss'] = train_loss\n",
    "    exp_dict['test_acc'] = test_acc\n",
    "    exp_dict['test_loss'] = test_loss\n",
    "    exp_dicts[count_parameters(net)] = exp_dict\n",
    "    "
   ]
  },
  {
   "cell_type": "code",
   "execution_count": 9,
   "metadata": {
    "collapsed": true
   },
   "outputs": [],
   "source": [
    "np.save('exps_cnn.npy', exp_dicts)"
   ]
  },
  {
   "cell_type": "code",
   "execution_count": 11,
   "metadata": {},
   "outputs": [
    {
     "name": "stdout",
     "output_type": "stream",
     "text": [
      "x_value [6698, 13674, 28490, 61578, 141578, 240010, 356874, 492170, 645898, 818058, 1008650, 1217674, 1445130, 1691018, 1955338, 2238090, 2539274, 2858890, 3196938]\n",
      "y_value_train_error [0.64558, 0.48448, 0.37470000000000003, 0.22716000000000003, 0.10089999999999999, 0.06332000000000004, 0.0343, 0.01876, 0.01088, 0.009539999999999993, 0.006260000000000043, 0.0039000000000000146, 0.0, 0.005959999999999965, 0.0, 0.0, 0.0025800000000000267, 0.0, 0.0]\n",
      "y_value_train_loss [0.01787216610431671, 0.013857135667800903, 0.010654593873023987, 0.006350104501843453, 0.0031806916761398314, 0.0023525745975598693, 0.0012831273317080922, 0.0006611800406558905, 0.0003449480868674436, 0.000310132830426719, 0.00019234023179473298, 0.0001206357635934546, 3.431047429251066e-07, 0.00018665127469448634, 5.006074894276935e-07, 5.140844344759898e-07, 8.36837542289868e-05, 2.9928951184615473e-07, 3.8602790771392394e-07]\n",
      "y_value_test_error [0.6921999999999999, 0.5475, 0.5407, 0.45809999999999995, 0.4072, 0.37060000000000004, 0.36240000000000006, 0.3477, 0.3173, 0.31720000000000004, 0.30879999999999996, 0.2995, 0.2874, 0.2903, 0.2845, 0.2731, 0.2841, 0.26980000000000004, 0.2712]\n",
      "y_value_test_loss [0.018785366654396056, 0.0157386616230011, 0.016715592455863952, 0.017660771071910858, 0.028509942293167116, 0.03623771395683289, 0.0385428111076355, 0.03909084193706512, 0.037379528069496154, 0.039719480562210085, 0.035079107081890104, 0.034972487568855286, 0.03371526303291321, 0.03268805434703827, 0.03221611644029617, 0.027881231260299684, 0.03285539045333862, 0.029093667423725128, 0.028431100988388063]\n"
     ]
    }
   ],
   "source": [
    "exp_dicts = np.load('exps_cnn.npy').item()\n",
    "x_value = []\n",
    "y_value_train_error = []\n",
    "y_value_train_loss = []\n",
    "y_value_test_error = []\n",
    "y_value_test_loss = []\n",
    "for key in exp_dicts.keys():\n",
    "    x_value.append(key)\n",
    "    y_value_train_error.append(1.0-exp_dicts[key]['train_acc'])\n",
    "    y_value_train_loss.append(exp_dicts[key]['train_loss'])\n",
    "    y_value_test_error.append(1.0-exp_dicts[key]['test_acc'])\n",
    "    y_value_test_loss.append(exp_dicts[key]['test_loss'])\n",
    "\n",
    "print('x_value',x_value)\n",
    "print('y_value_train_error',y_value_train_error)\n",
    "print('y_value_train_loss',y_value_train_loss)\n",
    "print('y_value_test_error',y_value_test_error)\n",
    "print('y_value_test_loss',y_value_test_loss)"
   ]
  },
  {
   "cell_type": "code",
   "execution_count": 12,
   "metadata": {},
   "outputs": [
    {
     "data": {
      "image/png": "[encoded data removed]",
      "text/plain": [
       "<matplotlib.figure.Figure at 0x7f2779a61a20>"
      ]
     },
     "metadata": {},
     "output_type": "display_data"
    }
   ],
   "source": [
    "%matplotlib inline\n",
    "import matplotlib\n",
    "import matplotlib.pyplot as plt\n",
    "\n",
    "plt.semilogx(x_value, y_value_train_error)\n",
    "plt.semilogx(x_value, y_value_test_error)\n",
    "\n",
    "plt.xlabel('Number of model parameters')\n",
    "plt.ylabel('Error On CIFAR-10')\n",
    "plt.grid(True)\n",
    "#plt.savefig(\"test.png\")\n",
    "plt.show()"
   ]
  },
  {
   "cell_type": "code",
   "execution_count": 13,
   "metadata": {},
   "outputs": [
    {
     "data": {
      "image/png": "[encoded data removed]",
      "text/plain": [
       "<matplotlib.figure.Figure at 0x7f27798e8048>"
      ]
     },
     "metadata": {},
     "output_type": "display_data"
    }
   ],
   "source": [
    "plt.semilogx(x_value, y_value_train_loss)\n",
    "plt.semilogx(x_value, y_value_test_loss)\n",
    "\n",
    "plt.xlabel('Number of model parameters')\n",
    "plt.ylabel('Loss On CIFAR-10')\n",
    "plt.grid(True)\n",
    "#plt.savefig(\"test.png\")\n",
    "plt.show()"
   ]
  },
  {
   "cell_type": "code",
   "execution_count": null,
   "metadata": {
    "collapsed": true
   },
   "outputs": [],
   "source": []
  }
 ],
 "metadata": {
  "kernelspec": {
   "display_name": "Python 2",
   "language": "python",
   "name": "python2"
  },
  "language_info": {
   "codemirror_mode": {
    "name": "ipython",
    "version": 2
   },
   "file_extension": ".py",
   "mimetype": "text/x-python",
   "name": "python",
   "nbconvert_exporter": "python",
   "pygments_lexer": "ipython2",
   "version": "2.7.13"
  }
 },
 "nbformat": 4,
 "nbformat_minor": 2
}
