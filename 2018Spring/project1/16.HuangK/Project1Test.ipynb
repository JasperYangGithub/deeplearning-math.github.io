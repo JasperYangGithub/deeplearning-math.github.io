{
 "cells": [
  {
   "cell_type": "code",
   "execution_count": null,
   "metadata": {
    "collapsed": true
   },
   "outputs": [],
   "source": [
    "%pylab inline\n",
    "import numpy as np\n",
    "import torch\n",
    "import torch.nn as nn\n",
    "import torch.nn.functional as F\n",
    "import torch.utils.data.dataloader as dataloader\n",
    "import torch.optim as optim\n",
    "\n",
    "from torch.utils.data import TensorDataset\n",
    "from torch.autograd import Variable\n",
    "from torchvision import transforms\n",
    "from torchvision.datasets import MNIST\n",
    "\n",
    "import matplotlib.pyplot as plt\n",
    "import matplotlib.image as mpimg\n",
    "import numpy as np\n",
    "\n",
    "import torch\n",
    "#from scatwave.scattering import Scattering"
   ]
  },
  {
   "cell_type": "code",
   "execution_count": 84,
   "metadata": {},
   "outputs": [
    {
     "name": "stdout",
     "output_type": "stream",
     "text": [
      "10000\n"
     ]
    }
   ],
   "source": [
    "train = MNIST('./data', train=True, download=True, transform=transforms.Compose([\n",
    "    transforms.ToTensor(), # ToTensor does min-max normalization. \n",
    "]), )\n",
    "\n",
    "test = MNIST('./data', train=False, download=True, transform=transforms.Compose([\n",
    "    transforms.ToTensor(), # ToTensor does min-max normalization. \n",
    "]), )\n",
    "\n",
    "# Create DataLoader\n",
    "dataloader_args = dict(shuffle=False, batch_size=64,num_workers=1, pin_memory=True)\n",
    "train_loader = dataloader.DataLoader(train, **dataloader_args)\n",
    "test_loader = dataloader.DataLoader(test, **dataloader_args)\n",
    "\n",
    "print len(test)"
   ]
  },
  {
   "cell_type": "code",
   "execution_count": null,
   "metadata": {
    "collapsed": true,
    "scrolled": true
   },
   "outputs": [],
   "source": [
    "print enumerate(train_loader)"
   ]
  },
  {
   "cell_type": "code",
   "execution_count": null,
   "metadata": {
    "collapsed": true
   },
   "outputs": [],
   "source": [
    "for i, data in enumerate(train_loader):\n",
    "    #print(data[i][0])\n",
    "    # PIL\n",
    "    # print data[i][0].size() # torch.Size([1, 28, 28])\n",
    "    # print data[i].size() # torch.Size([64, 1, 28, 28])\n",
    "    # print size(data) # 2\n",
    "    # print data.size() # data is a list with size 2\n",
    "    img1 = transforms.ToPILImage()(data[i][0])\n",
    "    img2 = transforms.ToPILImage()(data[i][1])\n",
    "    #print \"size of data: \", size(data[i]), i\n",
    "    print i\n",
    "    print size(img)\n",
    "    #plot(img)\n",
    "    break\n",
    "#print img\n",
    "#imgplot1 = plt.imshow(img1)\n",
    "\n",
    "imgplot2 = plt.imshow(img2)"
   ]
  },
  {
   "cell_type": "code",
   "execution_count": null,
   "metadata": {
    "collapsed": true
   },
   "outputs": [],
   "source": [
    "for i, data in enumerate(train_loader):\n",
    "    print i, size(data), data[0].size(), data[1].size(), data[1]"
   ]
  },
  {
   "cell_type": "code",
   "execution_count": 14,
   "metadata": {},
   "outputs": [
    {
     "name": "stdout",
     "output_type": "stream",
     "text": [
      "100\n",
      "30\n",
      "torch.Size([6400, 1, 28, 28])\n",
      "torch.Size([1920, 1, 28, 28])\n"
     ]
    }
   ],
   "source": [
    "# Sample data from training data\n",
    "# Sampled data size: 6400\n",
    "partial_train_data = []\n",
    "#partial_train_targets = []\n",
    "partial_test_data = []\n",
    "#partial_test_targets = []\n",
    "batch_num = 100\n",
    "for batch_idx, (data, target) in enumerate(train_loader):\n",
    "    partial_train_data.append(data)\n",
    "    #print \"batch_idx: \", batch_idx\n",
    "    if batch_idx == batch_num - 1:\n",
    "        break\n",
    "print len(partial_train_data)\n",
    "# Sample data from training data\n",
    "# Sampled data size: 1920\n",
    "batch_num = 30\n",
    "for batch_idx, (data, target) in enumerate(test_loader):\n",
    "    partial_test_data.append(data)\n",
    "    #print \"batch_idx: \", batch_idx\n",
    "    if batch_idx == batch_num - 1:\n",
    "        break\n",
    "print len(partial_test_data)\n",
    "\n",
    "partial_train_data_temp = partial_train_data[0]\n",
    "for i in range(1,len(partial_train_data)):\n",
    "    partial_train_data_temp = torch.cat((partial_train_data_temp, partial_train_data[i]), 0)\n",
    "partial_test_data_temp = partial_test_data[0]\n",
    "for i in range(1,len(partial_test_data)):\n",
    "    partial_test_data_temp = torch.cat((partial_test_data_temp, partial_test_data[i]), 0)\n",
    "print partial_train_data_temp.size()\n",
    "print partial_test_data_temp.size()"
   ]
  },
  {
   "cell_type": "code",
   "execution_count": 21,
   "metadata": {},
   "outputs": [
    {
     "name": "stdout",
     "output_type": "stream",
     "text": [
      "torch.Size([6400, 1, 28, 28])\n",
      "torch.Size([1920, 1, 28, 28])\n",
      "torch.Size([6400])\n",
      "torch.Size([1920])\n"
     ]
    }
   ],
   "source": [
    "#partial_train_data_X = partial_train_data_temp.reshape\n",
    "train_X = partial_train_data_temp\n",
    "print Variable(train_X).size()\n",
    "test_X = partial_test_data_temp\n",
    "print Variable(test_X).size()\n",
    "targetsNew = torch.load(\"targetsNew.pt\")\n",
    "targetsNew_test = torch.load(\"targetsNew_test.pt\")\n",
    "print targetsNew.size()\n",
    "print targetsNew_test.size()"
   ]
  },
  {
   "cell_type": "code",
   "execution_count": 28,
   "metadata": {
    "collapsed": true
   },
   "outputs": [],
   "source": [
    "# Copy from: https://github.com/aaron-xichen/pytorch-playground/blob/master/mnist/model.py\n",
    "\n",
    "import torch.nn as nn\n",
    "from collections import OrderedDict\n",
    "import torch.utils.model_zoo as model_zoo\n",
    "#from utee import misc\n",
    "#print = misc.logger.info\n",
    "\n",
    "model_urls = {\n",
    "    'mnist': 'http://ml.cs.tsinghua.edu.cn/~chenxi/pytorch-models/mnist-b07bb66b.pth'\n",
    "}\n",
    "\n",
    "class MLP(nn.Module):\n",
    "    def __init__(self, input_dims, n_hiddens, n_class):\n",
    "        super(MLP, self).__init__()\n",
    "        assert isinstance(input_dims, int), 'Please provide int for input_dims'\n",
    "        self.input_dims = input_dims\n",
    "        current_dims = input_dims\n",
    "        layers = OrderedDict()\n",
    "\n",
    "        if isinstance(n_hiddens, int):\n",
    "            n_hiddens = [n_hiddens]\n",
    "        else:\n",
    "            n_hiddens = list(n_hiddens)\n",
    "        for i, n_hidden in enumerate(n_hiddens):\n",
    "            layers['fc{}'.format(i+1)] = nn.Linear(current_dims, n_hidden)\n",
    "            layers['relu{}'.format(i+1)] = nn.ReLU()\n",
    "            layers['drop{}'.format(i+1)] = nn.Dropout(0.2)\n",
    "            current_dims = n_hidden\n",
    "        layers['out'] = nn.Linear(current_dims, n_class)\n",
    "\n",
    "        self.model= nn.Sequential(layers)\n",
    "        print(self.model)\n",
    "\n",
    "    def forward(self, input):\n",
    "        input = input.view(input.size(0), -1)\n",
    "        assert input.size(1) == self.input_dims\n",
    "        return self.model.forward(input)\n",
    "\n",
    "def mnist(input_dims=784, n_hiddens=[256, 256], n_class=10, pretrained=None):\n",
    "    model = MLP(input_dims, n_hiddens, n_class)\n",
    "    if pretrained is not None:\n",
    "        m = model_zoo.load_url(model_urls['mnist'])\n",
    "        state_dict = m.state_dict() if isinstance(m, nn.Module) else m\n",
    "        assert isinstance(state_dict, (dict, OrderedDict)), type(state_dict)\n",
    "        model.load_state_dict(state_dict)\n",
    "    return model\n"
   ]
  },
  {
   "cell_type": "code",
   "execution_count": 31,
   "metadata": {},
   "outputs": [
    {
     "name": "stdout",
     "output_type": "stream",
     "text": [
      "Sequential (\n",
      "  (fc1): Linear (784 -> 256)\n",
      "  (relu1): ReLU ()\n",
      "  (drop1): Dropout (p = 0.2)\n",
      "  (fc2): Linear (256 -> 256)\n",
      "  (relu2): ReLU ()\n",
      "  (drop2): Dropout (p = 0.2)\n",
      "  (out): Linear (256 -> 10)\n",
      ")\n"
     ]
    },
    {
     "name": "stderr",
     "output_type": "stream",
     "text": [
      "Downloading: \"http://ml.cs.tsinghua.edu.cn/~chenxi/pytorch-models/mnist-b07bb66b.pth\" to /root/.torch/models/mnist-b07bb66b.pth\n",
      "100%|██████████| 1078198/1078198 [00:01<00:00, 666175.66it/s]\n"
     ]
    }
   ],
   "source": [
    "import argparse\n",
    "import os\n",
    "import time\n",
    "\n",
    "#from utee import misc\n",
    "import torch\n",
    "import torch.nn.functional as F\n",
    "import torch.optim as optim\n",
    "from torch.autograd import Variable\n",
    "\n",
    "#import dataset\n",
    "#import model\n",
    "\n",
    "model = mnist(input_dims=784, n_hiddens=[256, 256], n_class=10, pretrained=1)\n"
   ]
  },
  {
   "cell_type": "code",
   "execution_count": 32,
   "metadata": {},
   "outputs": [
    {
     "name": "stdout",
     "output_type": "stream",
     "text": [
      "MLP (\n",
      "  (model): Sequential (\n",
      "    (fc1): Linear (784 -> 256)\n",
      "    (relu1): ReLU ()\n",
      "    (drop1): Dropout (p = 0.2)\n",
      "    (fc2): Linear (256 -> 256)\n",
      "    (relu2): ReLU ()\n",
      "    (drop2): Dropout (p = 0.2)\n",
      "    (out): Linear (256 -> 10)\n",
      "  )\n",
      ")\n"
     ]
    }
   ],
   "source": [
    "print model"
   ]
  },
  {
   "cell_type": "code",
   "execution_count": 38,
   "metadata": {},
   "outputs": [
    {
     "name": "stdout",
     "output_type": "stream",
     "text": [
      "Variable containing:\n",
      "-1.7924e+00 -4.9831e-01 -5.8046e-01  ...  -9.7483e-01 -7.9358e-02  8.1951e-01\n",
      " 6.2894e+00 -1.4432e+00  2.6004e+00  ...  -8.5069e-01 -1.4046e+00  9.7241e-02\n",
      "-1.2256e+00 -3.5706e-01 -9.0623e-02  ...   5.7789e-01 -6.1773e-02  5.4339e-01\n",
      "                ...                   ⋱                   ...                \n",
      " 3.2717e-01  8.3498e-01 -8.9561e-02  ...   3.7277e+00 -1.6445e+00  1.4731e+00\n",
      "-2.4584e+00  2.6767e-01 -9.7188e-01  ...  -1.5949e+00  1.4351e+00  1.8144e+00\n",
      "-1.9771e+00 -1.4208e+00  1.5893e-01  ...  -4.2553e+00  1.6080e+00  5.3891e-03\n",
      "[torch.FloatTensor of size 6400x10]\n",
      "\n"
     ]
    }
   ],
   "source": [
    "output = model(Variable(train_X))\n",
    "loss = F.cross_entropy(output, Variable(targetsNew.cpu()))\n",
    "print output"
   ]
  },
  {
   "cell_type": "code",
   "execution_count": 47,
   "metadata": {},
   "outputs": [
    {
     "name": "stdout",
     "output_type": "stream",
     "text": [
      "\n",
      " 5\n",
      " 0\n",
      " 4\n",
      "⋮ \n",
      " 7\n",
      " 3\n",
      " 5\n",
      "[torch.LongTensor of size 6400]\n",
      " 6292 98.3125\n"
     ]
    }
   ],
   "source": [
    "import numpy as np\n",
    "pred = output.data.max(1)[1]\n",
    "correct = pred.cpu().eq(targetsNew.cpu()).sum()\n",
    "acc = correct * 1.0 / len(data)\n",
    "#print sum(output.data.numpy() == targetsNew.cpu().numpy())\n",
    "print pred, correct, acc"
   ]
  },
  {
   "cell_type": "code",
   "execution_count": 59,
   "metadata": {},
   "outputs": [
    {
     "name": "stdout",
     "output_type": "stream",
     "text": [
      "MLP (\n",
      "  (model): Sequential (\n",
      "    (fc1): Linear (784 -> 256)\n",
      "    (relu1): ReLU ()\n",
      "    (drop1): Dropout (p = 0.2)\n",
      "    (fc2): Linear (256 -> 256)\n",
      "    (relu2): ReLU ()\n",
      "    (drop2): Dropout (p = 0.2)\n",
      "  )\n",
      ")\n"
     ]
    }
   ],
   "source": [
    "# extract feature from pretrained VGG19 net\n",
    "#features_of_train_data = model.forward((Variable(train_X)))\n",
    "#print features_of_train_data.size()\n",
    "\n",
    "new_model = model\n",
    "new_model.model = nn.Sequential(OrderedDict([\n",
    "    ('fc1', nn.Linear(784, 256)),\n",
    "    ('relu1', nn.ReLU()),\n",
    "    ('drop1', nn.Dropout(0.2)),\n",
    "    ('fc2', nn.Linear(256, 256)),\n",
    "    ('relu2', nn.ReLU()),\n",
    "    ('drop2', nn.Dropout(0.2))\n",
    "    #(out), Linear (256 -> 10)\n",
    "    ]))\n",
    "print new_model"
   ]
  },
  {
   "cell_type": "code",
   "execution_count": 61,
   "metadata": {},
   "outputs": [
    {
     "name": "stdout",
     "output_type": "stream",
     "text": [
      "Variable containing:\n",
      " 0.0000  0.0000  0.1303  ...   0.0000  0.0226  0.0000\n",
      " 0.0000  0.0000  0.2591  ...   0.0000  0.0000  0.0000\n",
      " 0.0000  0.0000  0.0099  ...   0.0000  0.0000  0.0000\n",
      "          ...             ⋱             ...          \n",
      " 0.0000  0.0000  0.2712  ...   0.0168  0.0000  0.0000\n",
      " 0.0331  0.0000  0.0794  ...   0.0000  0.0343  0.0000\n",
      " 0.0000  0.0000  0.1370  ...   0.1869  0.0543  0.0000\n",
      "[torch.FloatTensor of size 6400x256]\n",
      "\n",
      "torch.Size([6400, 256])\n"
     ]
    }
   ],
   "source": [
    "features_of_train = model(Variable(train_X))\n",
    "print features_of_train\n",
    "print features_of_train.size()"
   ]
  },
  {
   "cell_type": "code",
   "execution_count": 73,
   "metadata": {},
   "outputs": [
    {
     "name": "stdout",
     "output_type": "stream",
     "text": [
      "Variable containing:\n",
      " 0.0000  0.0000  0.0896  ...   0.0256  0.0577  0.0000\n",
      " 0.1901  0.0000  0.0813  ...   0.1362  0.0526  0.0000\n",
      " 0.0483  0.0000  0.0384  ...   0.0000  0.0160  0.0000\n",
      "          ...             ⋱             ...          \n",
      " 0.0000  0.0000  0.1950  ...   0.0954  0.0312  0.0000\n",
      " 0.0000  0.0000  0.2403  ...   0.0000  0.0000  0.0000\n",
      " 0.0000  0.0000  0.1459  ...   0.0186  0.0000  0.0000\n",
      "[torch.FloatTensor of size 1920x256]\n",
      "\n",
      "torch.Size([1920, 256])\n"
     ]
    }
   ],
   "source": [
    "features_of_test = model(Variable(test_X))\n",
    "print features_of_test\n",
    "print features_of_test.size()\n",
    "torch.save(features_of_test,\"features_of_test.pt\")\n",
    "torch.save(test_X,\"test_X.pt\")"
   ]
  },
  {
   "cell_type": "code",
   "execution_count": null,
   "metadata": {},
   "outputs": [
    {
     "name": "stdout",
     "output_type": "stream",
     "text": [
      "1638400\n",
      "(6400, 256)\n",
      "(6400, 2)\n"
     ]
    }
   ],
   "source": [
    "# Slow\n",
    "import numpy as np\n",
    "import matplotlib.pyplot as plt\n",
    "from time import time\n",
    "from sklearn import datasets, manifold\n",
    "\n",
    "# slow Train dataset\n",
    "tsne = manifold.TSNE(n_components=2, init='pca', random_state=0)\n",
    "features_of_train_np = features_of_train.cpu().data.numpy()\n",
    "nsamples = features_of_train_np.shape[0]\n",
    "print size(features_of_train_np)\n",
    "print features_of_train_np.shape\n",
    "features_of_train_np_tsne = tsne.fit_transform(features_of_train_np)\n",
    "print features_of_train_np_tsne.shape"
   ]
  },
  {
   "cell_type": "code",
   "execution_count": 79,
   "metadata": {
    "collapsed": true
   },
   "outputs": [],
   "source": [
    "features_of_test_np = features_of_test.cpu().data.numpy()\n",
    "np.save(\"features_of_test_np\",features_of_test_np)"
   ]
  },
  {
   "cell_type": "code",
   "execution_count": 66,
   "metadata": {
    "collapsed": true
   },
   "outputs": [],
   "source": [
    "np.save(\"features_of_train_np_tsne\",features_of_train_np_tsne)"
   ]
  },
  {
   "cell_type": "code",
   "execution_count": 86,
   "metadata": {},
   "outputs": [
    {
     "data": {
      "image/png": "[encoded data removed]",
      "text/plain": [
       "<matplotlib.figure.Figure at 0x7eff61891290>"
      ]
     },
     "metadata": {},
     "output_type": "display_data"
    }
   ],
   "source": [
    "# Visualize the scat features\n",
    "# Scale and visualize the embedding vectors                            \n",
    "from time import time\n",
    "\n",
    "import numpy as np\n",
    "import matplotlib.pyplot as plt\n",
    "from matplotlib import offsetbox\n",
    "\n",
    "def plot_embedding(X, title=None):     \n",
    "    x_min, x_max = np.min(X, 0), np.max(X, 0)\n",
    "    X = (X - x_min) / (x_max - x_min)                           \n",
    "\n",
    "    plt.figure()              \n",
    "    ax = plt.subplot(111)      \n",
    "    for i in range(X.shape[0]):                          \n",
    "        plt.text(X[i, 0], X[i, 1], str(targets_np[i]),    \n",
    "                 color=plt.cm.Set1(targets_np[i] / 10.),         \n",
    "                 fontdict={'weight': 'bold', 'size': 9})\n",
    "    plt.xticks([]), plt.yticks([])\n",
    "    if title is not None:\n",
    "        plt.title(title)\n",
    "\n",
    "t0 = time()\n",
    "plot_embedding(features_of_train_np_tsne,\n",
    "               \"Features from VGG t-SNE embedding of the digits (time %.2fs)\" %\n",
    "               (time() - t0))\n",
    "\n",
    "plt.show()"
   ]
  },
  {
   "cell_type": "code",
   "execution_count": 85,
   "metadata": {},
   "outputs": [
    {
     "data": {
      "text/plain": [
       "<matplotlib.figure.Figure at 0x7eff6bd80a90>"
      ]
     },
     "metadata": {},
     "output_type": "display_data"
    }
   ],
   "source": [
    "plt.savefig('vgg19-tsne.jpg')"
   ]
  },
  {
   "cell_type": "code",
   "execution_count": 82,
   "metadata": {},
   "outputs": [
    {
     "data": {
      "text/plain": [
       "SVC(C=100, cache_size=200, class_weight=None, coef0=0.0,\n",
       "  decision_function_shape='ovr', degree=3, gamma='auto', kernel='rbf',\n",
       "  max_iter=-1, probability=False, random_state=None, shrinking=True,\n",
       "  tol=0.001, verbose=False)"
      ]
     },
     "execution_count": 82,
     "metadata": {},
     "output_type": "execute_result"
    }
   ],
   "source": [
    "# load data\n",
    "#scatFeatures_np_d2 = np.load(\"scatFeatures_np_d2.npy\")\n",
    "#targets_np = np.load(\"targets_np.npy\")\n",
    "# slow when size of X is large\n",
    "# SVM for scatFeatures_np_d2\n",
    "from sklearn import svm\n",
    "#X:scatFeatures_np_d2\n",
    "#y:targets_np\n",
    "clf = svm.SVC(C=100)\n",
    "#clf = svm.SVC(decision_function_shape='ovo')\n",
    "clf.fit(features_of_train_np, targets_np)"
   ]
  },
  {
   "cell_type": "code",
   "execution_count": 80,
   "metadata": {},
   "outputs": [
    {
     "name": "stdout",
     "output_type": "stream",
     "text": [
      "[7 6 1 ..., 2 0 7]\n"
     ]
    }
   ],
   "source": [
    "pred = clf.predict(features_of_test_np)\n",
    "print pred"
   ]
  },
  {
   "cell_type": "code",
   "execution_count": 81,
   "metadata": {},
   "outputs": [
    {
     "name": "stdout",
     "output_type": "stream",
     "text": [
      "Test data size:  (1920,)\n",
      "Prediction correct count:  1281\n",
      "Precision:  0.6671875\n"
     ]
    }
   ],
   "source": [
    "# features_of_train_np SVM fit\n",
    "#pred = clf.predict(features_of_test_np)\n",
    "print \"Test data size: \", targets_test_np.shape\n",
    "#print sum(pred)\n",
    "#print sum(pred == 1)\n",
    "print \"Prediction correct count: \", sum(pred == targets_test_np)\n",
    "print \"Precision: \", sum(pred == targets_test_np)*1.0/len(targets_test_np)"
   ]
  },
  {
   "cell_type": "code",
   "execution_count": 8,
   "metadata": {},
   "outputs": [
    {
     "name": "stderr",
     "output_type": "stream",
     "text": [
      "/usr/local/lib/python2.7/site-packages/scatwave-0.0.1-py2.7.egg/scatwave/scattering.py:82: UserWarning: src is not broadcastable to dst, but they have the same number of elements.  Falling back to deprecated pointwise behavior.\n"
     ]
    },
    {
     "name": "stdout",
     "output_type": "stream",
     "text": [
      "0-64-4-36-36-periodize.cu\n",
      "modulus.cu\n",
      "0-64-2-36-36-periodize.cu\n",
      "0-64-2-18-18-periodize.cu\n",
      "batch_idx:  0\n",
      "0-64-4-36-36-periodize.cu\n",
      "modulus.cu\n",
      "0-64-2-36-36-periodize.cu\n",
      "0-64-2-18-18-periodize.cu\n",
      "batch_idx:  1\n",
      "0-64-4-36-36-periodize.cu\n",
      "modulus.cu\n",
      "0-64-2-36-36-periodize.cu\n",
      "0-64-2-18-18-periodize.cu\n",
      "batch_idx:  2\n",
      "0-64-4-36-36-periodize.cu\n",
      "modulus.cu\n",
      "0-64-2-36-36-periodize.cu\n",
      "0-64-2-18-18-periodize.cu\n",
      "batch_idx:  3\n",
      "0-64-4-36-36-periodize.cu\n",
      "modulus.cu\n",
      "0-64-2-36-36-periodize.cu\n",
      "0-64-2-18-18-periodize.cu\n",
      "batch_idx:  4\n",
      "0-64-4-36-36-periodize.cu\n",
      "modulus.cu\n",
      "0-64-2-36-36-periodize.cu\n",
      "0-64-2-18-18-periodize.cu\n",
      "batch_idx:  5\n",
      "0-64-4-36-36-periodize.cu\n",
      "modulus.cu\n",
      "0-64-2-36-36-periodize.cu\n",
      "0-64-2-18-18-periodize.cu\n",
      "batch_idx:  6\n",
      "0-64-4-36-36-periodize.cu\n",
      "modulus.cu\n",
      "0-64-2-36-36-periodize.cu\n",
      "0-64-2-18-18-periodize.cu\n",
      "batch_idx:  7\n",
      "0-64-4-36-36-periodize.cu\n",
      "modulus.cu\n",
      "0-64-2-36-36-periodize.cu\n",
      "0-64-2-18-18-periodize.cu\n",
      "batch_idx:  8\n",
      "0-64-4-36-36-periodize.cu\n",
      "modulus.cu\n",
      "0-64-2-36-36-periodize.cu\n",
      "0-64-2-18-18-periodize.cu\n",
      "batch_idx:  9\n",
      "0-64-4-36-36-periodize.cu\n",
      "modulus.cu\n",
      "0-64-2-36-36-periodize.cu\n",
      "0-64-2-18-18-periodize.cu\n",
      "batch_idx:  10\n",
      "0-64-4-36-36-periodize.cu\n",
      "modulus.cu\n",
      "0-64-2-36-36-periodize.cu\n",
      "0-64-2-18-18-periodize.cu\n",
      "batch_idx:  11\n",
      "0-64-4-36-36-periodize.cu\n",
      "modulus.cu\n",
      "0-64-2-36-36-periodize.cu\n",
      "0-64-2-18-18-periodize.cu\n",
      "batch_idx:  12\n",
      "0-64-4-36-36-periodize.cu\n",
      "modulus.cu\n",
      "0-64-2-36-36-periodize.cu\n",
      "0-64-2-18-18-periodize.cu\n",
      "batch_idx:  13\n",
      "0-64-4-36-36-periodize.cu\n",
      "modulus.cu\n",
      "0-64-2-36-36-periodize.cu\n",
      "0-64-2-18-18-periodize.cu\n",
      "batch_idx:  14\n",
      "0-64-4-36-36-periodize.cu\n",
      "modulus.cu\n",
      "0-64-2-36-36-periodize.cu\n",
      "0-64-2-18-18-periodize.cu\n",
      "batch_idx:  15\n",
      "0-64-4-36-36-periodize.cu\n",
      "modulus.cu\n",
      "0-64-2-36-36-periodize.cu\n",
      "0-64-2-18-18-periodize.cu\n",
      "batch_idx:  16\n",
      "0-64-4-36-36-periodize.cu\n",
      "modulus.cu\n",
      "0-64-2-36-36-periodize.cu\n",
      "0-64-2-18-18-periodize.cu\n",
      "batch_idx:  17\n",
      "0-64-4-36-36-periodize.cu\n",
      "modulus.cu\n",
      "0-64-2-36-36-periodize.cu\n",
      "0-64-2-18-18-periodize.cu\n",
      "batch_idx:  18\n",
      "0-64-4-36-36-periodize.cu\n",
      "modulus.cu\n",
      "0-64-2-36-36-periodize.cu\n",
      "0-64-2-18-18-periodize.cu\n",
      "batch_idx:  19\n",
      "0-64-4-36-36-periodize.cu\n",
      "modulus.cu\n",
      "0-64-2-36-36-periodize.cu\n",
      "0-64-2-18-18-periodize.cu\n",
      "batch_idx:  20\n",
      "0-64-4-36-36-periodize.cu\n",
      "modulus.cu\n",
      "0-64-2-36-36-periodize.cu\n",
      "0-64-2-18-18-periodize.cu\n",
      "batch_idx:  21\n",
      "0-64-4-36-36-periodize.cu\n",
      "modulus.cu\n",
      "0-64-2-36-36-periodize.cu\n",
      "0-64-2-18-18-periodize.cu\n",
      "batch_idx:  22\n",
      "0-64-4-36-36-periodize.cu\n",
      "modulus.cu\n",
      "0-64-2-36-36-periodize.cu\n",
      "0-64-2-18-18-periodize.cu\n",
      "batch_idx:  23\n",
      "0-64-4-36-36-periodize.cu\n",
      "modulus.cu\n",
      "0-64-2-36-36-periodize.cu\n",
      "0-64-2-18-18-periodize.cu\n",
      "batch_idx:  24\n",
      "0-64-4-36-36-periodize.cu\n",
      "modulus.cu\n",
      "0-64-2-36-36-periodize.cu\n",
      "0-64-2-18-18-periodize.cu\n",
      "batch_idx:  25\n",
      "0-64-4-36-36-periodize.cu\n",
      "modulus.cu\n",
      "0-64-2-36-36-periodize.cu\n",
      "0-64-2-18-18-periodize.cu\n",
      "batch_idx:  26\n",
      "0-64-4-36-36-periodize.cu\n",
      "modulus.cu\n",
      "0-64-2-36-36-periodize.cu\n",
      "0-64-2-18-18-periodize.cu\n",
      "batch_idx:  27\n",
      "0-64-4-36-36-periodize.cu\n",
      "modulus.cu\n",
      "0-64-2-36-36-periodize.cu\n",
      "0-64-2-18-18-periodize.cu\n",
      "batch_idx:  28\n",
      "0-64-4-36-36-periodize.cu\n",
      "modulus.cu\n",
      "0-64-2-36-36-periodize.cu\n",
      "0-64-2-18-18-periodize.cu\n",
      "batch_idx:  29\n",
      "0-64-4-36-36-periodize.cu\n",
      "modulus.cu\n",
      "0-64-2-36-36-periodize.cu\n",
      "0-64-2-18-18-periodize.cu\n",
      "batch_idx:  30\n",
      "0-64-4-36-36-periodize.cu\n",
      "modulus.cu\n",
      "0-64-2-36-36-periodize.cu\n",
      "0-64-2-18-18-periodize.cu\n",
      "batch_idx:  31\n",
      "0-64-4-36-36-periodize.cu\n",
      "modulus.cu\n",
      "0-64-2-36-36-periodize.cu\n",
      "0-64-2-18-18-periodize.cu\n",
      "batch_idx:  32\n",
      "0-64-4-36-36-periodize.cu\n",
      "modulus.cu\n",
      "0-64-2-36-36-periodize.cu\n",
      "0-64-2-18-18-periodize.cu\n",
      "batch_idx:  33\n",
      "0-64-4-36-36-periodize.cu\n",
      "modulus.cu\n",
      "0-64-2-36-36-periodize.cu\n",
      "0-64-2-18-18-periodize.cu\n",
      "batch_idx:  34\n",
      "0-64-4-36-36-periodize.cu\n",
      "modulus.cu\n",
      "0-64-2-36-36-periodize.cu\n",
      "0-64-2-18-18-periodize.cu\n",
      "batch_idx:  35\n",
      "0-64-4-36-36-periodize.cu\n",
      "modulus.cu\n",
      "0-64-2-36-36-periodize.cu\n",
      "0-64-2-18-18-periodize.cu\n",
      "batch_idx:  36\n",
      "0-64-4-36-36-periodize.cu\n",
      "modulus.cu\n",
      "0-64-2-36-36-periodize.cu\n",
      "0-64-2-18-18-periodize.cu\n",
      "batch_idx:  37\n",
      "0-64-4-36-36-periodize.cu\n",
      "modulus.cu\n",
      "0-64-2-36-36-periodize.cu\n",
      "0-64-2-18-18-periodize.cu\n",
      "batch_idx:  38\n",
      "0-64-4-36-36-periodize.cu\n",
      "modulus.cu\n",
      "0-64-2-36-36-periodize.cu\n",
      "0-64-2-18-18-periodize.cu\n",
      "batch_idx:  39\n",
      "0-64-4-36-36-periodize.cu\n",
      "modulus.cu\n",
      "0-64-2-36-36-periodize.cu\n",
      "0-64-2-18-18-periodize.cu\n",
      "batch_idx:  40\n",
      "0-64-4-36-36-periodize.cu\n",
      "modulus.cu\n",
      "0-64-2-36-36-periodize.cu\n",
      "0-64-2-18-18-periodize.cu\n",
      "batch_idx:  41\n",
      "0-64-4-36-36-periodize.cu\n",
      "modulus.cu\n",
      "0-64-2-36-36-periodize.cu\n",
      "0-64-2-18-18-periodize.cu\n",
      "batch_idx:  42\n",
      "0-64-4-36-36-periodize.cu\n",
      "modulus.cu\n",
      "0-64-2-36-36-periodize.cu\n",
      "0-64-2-18-18-periodize.cu\n",
      "batch_idx:  43\n",
      "0-64-4-36-36-periodize.cu\n",
      "modulus.cu\n",
      "0-64-2-36-36-periodize.cu\n",
      "0-64-2-18-18-periodize.cu\n",
      "batch_idx:  44\n",
      "0-64-4-36-36-periodize.cu\n",
      "modulus.cu\n",
      "0-64-2-36-36-periodize.cu\n",
      "0-64-2-18-18-periodize.cu\n",
      "batch_idx:  45\n",
      "0-64-4-36-36-periodize.cu\n",
      "modulus.cu\n",
      "0-64-2-36-36-periodize.cu\n",
      "0-64-2-18-18-periodize.cu\n",
      "batch_idx:  46\n",
      "0-64-4-36-36-periodize.cu\n",
      "modulus.cu\n",
      "0-64-2-36-36-periodize.cu\n",
      "0-64-2-18-18-periodize.cu\n",
      "batch_idx:  47\n",
      "0-64-4-36-36-periodize.cu\n",
      "modulus.cu\n",
      "0-64-2-36-36-periodize.cu\n",
      "0-64-2-18-18-periodize.cu\n",
      "batch_idx:  48\n",
      "0-64-4-36-36-periodize.cu\n",
      "modulus.cu\n",
      "0-64-2-36-36-periodize.cu\n",
      "0-64-2-18-18-periodize.cu\n",
      "batch_idx:  49\n",
      "0-64-4-36-36-periodize.cu\n",
      "modulus.cu\n",
      "0-64-2-36-36-periodize.cu\n",
      "0-64-2-18-18-periodize.cu\n",
      "batch_idx:  50\n",
      "0-64-4-36-36-periodize.cu\n",
      "modulus.cu\n",
      "0-64-2-36-36-periodize.cu\n",
      "0-64-2-18-18-periodize.cu\n",
      "batch_idx:  51\n",
      "0-64-4-36-36-periodize.cu\n",
      "modulus.cu\n",
      "0-64-2-36-36-periodize.cu\n",
      "0-64-2-18-18-periodize.cu\n",
      "batch_idx:  52\n",
      "0-64-4-36-36-periodize.cu\n",
      "modulus.cu\n",
      "0-64-2-36-36-periodize.cu\n",
      "0-64-2-18-18-periodize.cu\n",
      "batch_idx:  53\n",
      "0-64-4-36-36-periodize.cu\n",
      "modulus.cu\n",
      "0-64-2-36-36-periodize.cu\n",
      "0-64-2-18-18-periodize.cu\n",
      "batch_idx:  54\n",
      "0-64-4-36-36-periodize.cu\n",
      "modulus.cu\n",
      "0-64-2-36-36-periodize.cu\n",
      "0-64-2-18-18-periodize.cu\n",
      "batch_idx:  55\n",
      "0-64-4-36-36-periodize.cu\n",
      "modulus.cu\n",
      "0-64-2-36-36-periodize.cu\n",
      "0-64-2-18-18-periodize.cu\n",
      "batch_idx:  56\n",
      "0-64-4-36-36-periodize.cu\n",
      "modulus.cu\n",
      "0-64-2-36-36-periodize.cu\n",
      "0-64-2-18-18-periodize.cu\n",
      "batch_idx:  57\n",
      "0-64-4-36-36-periodize.cu\n",
      "modulus.cu\n",
      "0-64-2-36-36-periodize.cu\n",
      "0-64-2-18-18-periodize.cu\n",
      "batch_idx:  58\n",
      "0-64-4-36-36-periodize.cu\n",
      "modulus.cu\n",
      "0-64-2-36-36-periodize.cu\n",
      "0-64-2-18-18-periodize.cu\n",
      "batch_idx:  59\n",
      "0-64-4-36-36-periodize.cu\n",
      "modulus.cu\n",
      "0-64-2-36-36-periodize.cu\n",
      "0-64-2-18-18-periodize.cu\n",
      "batch_idx:  60\n",
      "0-64-4-36-36-periodize.cu\n",
      "modulus.cu\n",
      "0-64-2-36-36-periodize.cu\n",
      "0-64-2-18-18-periodize.cu\n",
      "batch_idx:  61\n",
      "0-64-4-36-36-periodize.cu\n",
      "modulus.cu\n",
      "0-64-2-36-36-periodize.cu\n",
      "0-64-2-18-18-periodize.cu\n",
      "batch_idx:  62\n",
      "0-64-4-36-36-periodize.cu\n",
      "modulus.cu\n",
      "0-64-2-36-36-periodize.cu\n",
      "0-64-2-18-18-periodize.cu\n",
      "batch_idx:  63\n",
      "0-64-4-36-36-periodize.cu\n",
      "modulus.cu\n",
      "0-64-2-36-36-periodize.cu\n",
      "0-64-2-18-18-periodize.cu\n",
      "batch_idx:  64\n",
      "0-64-4-36-36-periodize.cu\n",
      "modulus.cu\n",
      "0-64-2-36-36-periodize.cu\n",
      "0-64-2-18-18-periodize.cu\n",
      "batch_idx:  65\n",
      "0-64-4-36-36-periodize.cu\n",
      "modulus.cu\n",
      "0-64-2-36-36-periodize.cu\n",
      "0-64-2-18-18-periodize.cu\n",
      "batch_idx:  66\n",
      "0-64-4-36-36-periodize.cu\n",
      "modulus.cu\n",
      "0-64-2-36-36-periodize.cu\n",
      "0-64-2-18-18-periodize.cu\n",
      "batch_idx:  67\n",
      "0-64-4-36-36-periodize.cu\n",
      "modulus.cu\n",
      "0-64-2-36-36-periodize.cu\n",
      "0-64-2-18-18-periodize.cu\n",
      "batch_idx:  68\n",
      "0-64-4-36-36-periodize.cu\n",
      "modulus.cu\n",
      "0-64-2-36-36-periodize.cu\n",
      "0-64-2-18-18-periodize.cu\n",
      "batch_idx:  69\n",
      "0-64-4-36-36-periodize.cu\n",
      "modulus.cu\n",
      "0-64-2-36-36-periodize.cu\n",
      "0-64-2-18-18-periodize.cu\n",
      "batch_idx:  70\n",
      "0-64-4-36-36-periodize.cu\n",
      "modulus.cu\n",
      "0-64-2-36-36-periodize.cu\n",
      "0-64-2-18-18-periodize.cu\n",
      "batch_idx:  71\n",
      "0-64-4-36-36-periodize.cu\n",
      "modulus.cu\n",
      "0-64-2-36-36-periodize.cu\n",
      "0-64-2-18-18-periodize.cu\n",
      "batch_idx:  72\n",
      "0-64-4-36-36-periodize.cu\n",
      "modulus.cu\n",
      "0-64-2-36-36-periodize.cu\n",
      "0-64-2-18-18-periodize.cu\n",
      "batch_idx:  73\n",
      "0-64-4-36-36-periodize.cu\n",
      "modulus.cu\n",
      "0-64-2-36-36-periodize.cu\n",
      "0-64-2-18-18-periodize.cu\n",
      "batch_idx:  74\n",
      "0-64-4-36-36-periodize.cu\n",
      "modulus.cu\n",
      "0-64-2-36-36-periodize.cu\n",
      "0-64-2-18-18-periodize.cu\n",
      "batch_idx:  75\n",
      "0-64-4-36-36-periodize.cu\n",
      "modulus.cu\n",
      "0-64-2-36-36-periodize.cu\n",
      "0-64-2-18-18-periodize.cu\n",
      "batch_idx:  76\n",
      "0-64-4-36-36-periodize.cu\n",
      "modulus.cu\n",
      "0-64-2-36-36-periodize.cu\n",
      "0-64-2-18-18-periodize.cu\n",
      "batch_idx:  77\n",
      "0-64-4-36-36-periodize.cu\n",
      "modulus.cu\n",
      "0-64-2-36-36-periodize.cu\n",
      "0-64-2-18-18-periodize.cu\n",
      "batch_idx:  78\n"
     ]
    },
    {
     "name": "stdout",
     "output_type": "stream",
     "text": [
      "0-64-4-36-36-periodize.cu\n",
      "modulus.cu\n",
      "0-64-2-36-36-periodize.cu\n",
      "0-64-2-18-18-periodize.cu\n",
      "batch_idx:  79\n",
      "0-64-4-36-36-periodize.cu\n",
      "modulus.cu\n",
      "0-64-2-36-36-periodize.cu\n",
      "0-64-2-18-18-periodize.cu\n",
      "batch_idx:  80\n",
      "0-64-4-36-36-periodize.cu\n",
      "modulus.cu\n",
      "0-64-2-36-36-periodize.cu\n",
      "0-64-2-18-18-periodize.cu\n",
      "batch_idx:  81\n",
      "0-64-4-36-36-periodize.cu\n",
      "modulus.cu\n",
      "0-64-2-36-36-periodize.cu\n",
      "0-64-2-18-18-periodize.cu\n",
      "batch_idx:  82\n",
      "0-64-4-36-36-periodize.cu\n",
      "modulus.cu\n",
      "0-64-2-36-36-periodize.cu\n",
      "0-64-2-18-18-periodize.cu\n",
      "batch_idx:  83\n",
      "0-64-4-36-36-periodize.cu\n",
      "modulus.cu\n",
      "0-64-2-36-36-periodize.cu\n",
      "0-64-2-18-18-periodize.cu\n",
      "batch_idx:  84\n",
      "0-64-4-36-36-periodize.cu\n",
      "modulus.cu\n",
      "0-64-2-36-36-periodize.cu\n",
      "0-64-2-18-18-periodize.cu\n",
      "batch_idx:  85\n",
      "0-64-4-36-36-periodize.cu\n",
      "modulus.cu\n",
      "0-64-2-36-36-periodize.cu\n",
      "0-64-2-18-18-periodize.cu\n",
      "batch_idx:  86\n",
      "0-64-4-36-36-periodize.cu\n",
      "modulus.cu\n",
      "0-64-2-36-36-periodize.cu\n",
      "0-64-2-18-18-periodize.cu\n",
      "batch_idx:  87\n",
      "0-64-4-36-36-periodize.cu\n",
      "modulus.cu\n",
      "0-64-2-36-36-periodize.cu\n",
      "0-64-2-18-18-periodize.cu\n",
      "batch_idx:  88\n",
      "0-64-4-36-36-periodize.cu\n",
      "modulus.cu\n",
      "0-64-2-36-36-periodize.cu\n",
      "0-64-2-18-18-periodize.cu\n",
      "batch_idx:  89\n",
      "0-64-4-36-36-periodize.cu\n",
      "modulus.cu\n",
      "0-64-2-36-36-periodize.cu\n",
      "0-64-2-18-18-periodize.cu\n",
      "batch_idx:  90\n",
      "0-64-4-36-36-periodize.cu\n",
      "modulus.cu\n",
      "0-64-2-36-36-periodize.cu\n",
      "0-64-2-18-18-periodize.cu\n",
      "batch_idx:  91\n",
      "0-64-4-36-36-periodize.cu\n",
      "modulus.cu\n",
      "0-64-2-36-36-periodize.cu\n",
      "0-64-2-18-18-periodize.cu\n",
      "batch_idx:  92\n",
      "0-64-4-36-36-periodize.cu\n",
      "modulus.cu\n",
      "0-64-2-36-36-periodize.cu\n",
      "0-64-2-18-18-periodize.cu\n",
      "batch_idx:  93\n",
      "0-64-4-36-36-periodize.cu\n",
      "modulus.cu\n",
      "0-64-2-36-36-periodize.cu\n",
      "0-64-2-18-18-periodize.cu\n",
      "batch_idx:  94\n",
      "0-64-4-36-36-periodize.cu\n",
      "modulus.cu\n",
      "0-64-2-36-36-periodize.cu\n",
      "0-64-2-18-18-periodize.cu\n",
      "batch_idx:  95\n",
      "0-64-4-36-36-periodize.cu\n",
      "modulus.cu\n",
      "0-64-2-36-36-periodize.cu\n",
      "0-64-2-18-18-periodize.cu\n",
      "batch_idx:  96\n",
      "0-64-4-36-36-periodize.cu\n",
      "modulus.cu\n",
      "0-64-2-36-36-periodize.cu\n",
      "0-64-2-18-18-periodize.cu\n",
      "batch_idx:  97\n",
      "0-64-4-36-36-periodize.cu\n",
      "modulus.cu\n",
      "0-64-2-36-36-periodize.cu\n",
      "0-64-2-18-18-periodize.cu\n",
      "batch_idx:  98\n",
      "0-64-4-36-36-periodize.cu\n",
      "modulus.cu\n",
      "0-64-2-36-36-periodize.cu\n",
      "0-64-2-18-18-periodize.cu\n",
      "batch_idx:  99\n",
      "100 100\n"
     ]
    }
   ],
   "source": [
    "# Sample data from training data\n",
    "# Sampled data size: 6400\n",
    "scatFeatures = [] # features\n",
    "targets = [] # targets for training data\n",
    "batch_num = 100\n",
    "for batch_idx, (data, target) in enumerate(train_loader):\n",
    "    scat = Scattering(M=28, N=28, J=2).cuda()\n",
    "    #print scat(data.cuda()).size(), target.size()\n",
    "    scatFeatures.append(scat(data.cuda()))\n",
    "    targets.append(target.cuda())\n",
    "    print \"batch_idx: \", batch_idx\n",
    "    if batch_idx == batch_num - 1:\n",
    "        break\n",
    "print len(scatFeatures), len(targets)"
   ]
  },
  {
   "cell_type": "code",
   "execution_count": 9,
   "metadata": {},
   "outputs": [
    {
     "name": "stdout",
     "output_type": "stream",
     "text": [
      "100 100\n"
     ]
    }
   ],
   "source": [
    "print len(scatFeatures), len(targets)\n",
    "# Save sampled training data\n",
    "torch.save(scatFeatures,\"scatFeatures.pt\")\n",
    "torch.save(targets,\"targets.pt\")"
   ]
  },
  {
   "cell_type": "code",
   "execution_count": null,
   "metadata": {},
   "outputs": [
    {
     "name": "stdout",
     "output_type": "stream",
     "text": [
      "0-64-4-36-36-periodize.cu\n",
      "modulus.cu\n",
      "0-64-2-36-36-periodize.cu\n",
      "0-64-2-18-18-periodize.cu\n",
      "batch_idx:  0\n",
      "0-64-4-36-36-periodize.cu\n",
      "modulus.cu\n",
      "0-64-2-36-36-periodize.cu\n",
      "0-64-2-18-18-periodize.cu\n",
      "batch_idx:  1\n",
      "0-64-4-36-36-periodize.cu\n",
      "modulus.cu\n",
      "0-64-2-36-36-periodize.cu\n",
      "0-64-2-18-18-periodize.cu\n",
      "batch_idx:  2\n",
      "0-64-4-36-36-periodize.cu\n",
      "modulus.cu\n",
      "0-64-2-36-36-periodize.cu\n",
      "0-64-2-18-18-periodize.cu\n",
      "batch_idx:  3\n",
      "0-64-4-36-36-periodize.cu\n",
      "modulus.cu\n",
      "0-64-2-36-36-periodize.cu\n",
      "0-64-2-18-18-periodize.cu\n",
      "batch_idx:  4\n",
      "0-64-4-36-36-periodize.cu\n",
      "modulus.cu\n",
      "0-64-2-36-36-periodize.cu\n",
      "0-64-2-18-18-periodize.cu\n",
      "batch_idx:  5\n",
      "0-64-4-36-36-periodize.cu\n",
      "modulus.cu\n",
      "0-64-2-36-36-periodize.cu\n",
      "0-64-2-18-18-periodize.cu\n",
      "batch_idx:  6\n",
      "0-64-4-36-36-periodize.cu\n",
      "modulus.cu\n",
      "0-64-2-36-36-periodize.cu\n",
      "0-64-2-18-18-periodize.cu\n",
      "batch_idx:  7\n",
      "0-64-4-36-36-periodize.cu\n",
      "modulus.cu\n",
      "0-64-2-36-36-periodize.cu\n",
      "0-64-2-18-18-periodize.cu\n",
      "batch_idx:  8\n",
      "0-64-4-36-36-periodize.cu\n",
      "modulus.cu\n",
      "0-64-2-36-36-periodize.cu\n",
      "0-64-2-18-18-periodize.cu\n",
      "batch_idx:  9\n",
      "0-64-4-36-36-periodize.cu\n",
      "modulus.cu\n",
      "0-64-2-36-36-periodize.cu\n",
      "0-64-2-18-18-periodize.cu\n",
      "batch_idx:  10\n",
      "0-64-4-36-36-periodize.cu\n",
      "modulus.cu\n",
      "0-64-2-36-36-periodize.cu\n",
      "0-64-2-18-18-periodize.cu\n",
      "batch_idx:  11\n",
      "0-64-4-36-36-periodize.cu\n",
      "modulus.cu\n",
      "0-64-2-36-36-periodize.cu\n",
      "0-64-2-18-18-periodize.cu\n",
      "batch_idx:  12\n",
      "0-64-4-36-36-periodize.cu\n",
      "modulus.cu\n",
      "0-64-2-36-36-periodize.cu\n",
      "0-64-2-18-18-periodize.cu\n",
      "batch_idx:  13\n",
      "0-64-4-36-36-periodize.cu\n",
      "modulus.cu\n",
      "0-64-2-36-36-periodize.cu\n",
      "0-64-2-18-18-periodize.cu\n",
      "batch_idx:  14\n",
      "0-64-4-36-36-periodize.cu\n",
      "modulus.cu\n",
      "0-64-2-36-36-periodize.cu\n",
      "0-64-2-18-18-periodize.cu\n",
      "batch_idx:  15\n",
      "0-64-4-36-36-periodize.cu\n",
      "modulus.cu\n",
      "0-64-2-36-36-periodize.cu\n",
      "0-64-2-18-18-periodize.cu\n",
      "batch_idx:  16\n",
      "0-64-4-36-36-periodize.cu\n",
      "modulus.cu\n",
      "0-64-2-36-36-periodize.cu\n",
      "0-64-2-18-18-periodize.cu\n",
      "batch_idx:  17\n",
      "0-64-4-36-36-periodize.cu\n",
      "modulus.cu\n",
      "0-64-2-36-36-periodize.cu\n",
      "0-64-2-18-18-periodize.cu\n",
      "batch_idx:  18\n",
      "0-64-4-36-36-periodize.cu\n",
      "modulus.cu\n",
      "0-64-2-36-36-periodize.cu\n",
      "0-64-2-18-18-periodize.cu\n",
      "batch_idx:  19\n",
      "0-64-4-36-36-periodize.cu\n",
      "modulus.cu\n",
      "0-64-2-36-36-periodize.cu\n",
      "0-64-2-18-18-periodize.cu\n",
      "batch_idx:  20\n",
      "0-64-4-36-36-periodize.cu\n",
      "modulus.cu\n",
      "0-64-2-36-36-periodize.cu\n",
      "0-64-2-18-18-periodize.cu\n",
      "batch_idx:  21\n",
      "0-64-4-36-36-periodize.cu\n",
      "modulus.cu\n",
      "0-64-2-36-36-periodize.cu\n",
      "0-64-2-18-18-periodize.cu\n",
      "batch_idx:  22\n",
      "0-64-4-36-36-periodize.cu\n",
      "modulus.cu\n",
      "0-64-2-36-36-periodize.cu\n",
      "0-64-2-18-18-periodize.cu\n",
      "batch_idx:  23\n",
      "0-64-4-36-36-periodize.cu\n",
      "modulus.cu\n",
      "0-64-2-36-36-periodize.cu\n",
      "0-64-2-18-18-periodize.cu\n",
      "batch_idx:  24\n",
      "0-64-4-36-36-periodize.cu\n",
      "modulus.cu\n",
      "0-64-2-36-36-periodize.cu\n",
      "0-64-2-18-18-periodize.cu\n",
      "batch_idx:  25\n",
      "0-64-4-36-36-periodize.cu\n",
      "modulus.cu\n",
      "0-64-2-36-36-periodize.cu\n",
      "0-64-2-18-18-periodize.cu\n",
      "batch_idx:  26\n",
      "0-64-4-36-36-periodize.cu\n",
      "modulus.cu\n",
      "0-64-2-36-36-periodize.cu\n",
      "0-64-2-18-18-periodize.cu\n",
      "batch_idx:  27\n",
      "0-64-4-36-36-periodize.cu\n",
      "modulus.cu\n",
      "0-64-2-36-36-periodize.cu\n",
      "0-64-2-18-18-periodize.cu\n",
      "batch_idx:  28\n",
      "0-64-4-36-36-periodize.cu\n",
      "modulus.cu\n",
      "0-64-2-36-36-periodize.cu\n",
      "0-64-2-18-18-periodize.cu\n",
      "batch_idx:  29\n",
      "30 30\n"
     ]
    }
   ],
   "source": [
    "# Sample data from testing data\n",
    "# Sampled data size: 1920 \n",
    "scatFeatures_test = [] # features for testing data\n",
    "targets_test = [] # targets for testing data\n",
    "batch_num = 30\n",
    "for batch_idx, (data, target) in enumerate(test_loader):\n",
    "    scat = Scattering(M=28, N=28, J=2).cuda()\n",
    "    #print scat(data.cuda()).size(), target.size()\n",
    "    scatFeatures_test.append(scat(data.cuda()))\n",
    "    targets_test.append(target.cuda())\n",
    "    print \"batch_idx: \", batch_idx\n",
    "    if batch_idx == batch_num - 1:\n",
    "        break\n",
    "print len(scatFeatures_test), len(targets_test)"
   ]
  },
  {
   "cell_type": "code",
   "execution_count": 4,
   "metadata": {
    "collapsed": true
   },
   "outputs": [],
   "source": [
    "# Save sampled training data\n",
    "torch.save(scatFeatures_test,\"scatFeatures_test.pt\")\n",
    "torch.save(targets_test,\"targets_test.pt\")"
   ]
  },
  {
   "cell_type": "code",
   "execution_count": 20,
   "metadata": {},
   "outputs": [
    {
     "name": "stdout",
     "output_type": "stream",
     "text": [
      "torch.Size([6400, 1, 81, 7, 7])\n",
      "torch.Size([6400])\n",
      "torch.Size([6400])\n",
      "torch.Size([1920])\n"
     ]
    }
   ],
   "source": [
    "# find here\n",
    "# This section is pretty fast\n",
    "# load saved data\n",
    "scatFeatures = torch.load(\"scatFeatures.pt\")\n",
    "targets = torch.load(\"targets.pt\")\n",
    "#scatFeatures[0].size()\n",
    "scatFeaturesNew = scatFeatures[0]\n",
    "targetsNew = targets[0]\n",
    "for i in range(1,len(scatFeatures)):\n",
    "    scatFeaturesNew = torch.cat((scatFeaturesNew, scatFeatures[i]), 0)\n",
    "    targetsNew = torch.cat((targetsNew, targets[i]), 0)\n",
    "print scatFeaturesNew.size()\n",
    "print targetsNew.size()"
   ]
  },
  {
   "cell_type": "code",
   "execution_count": 5,
   "metadata": {
    "collapsed": true
   },
   "outputs": [],
   "source": [
    "# Used for VGG19 model\n",
    "torch.save(scatFeaturesNew,\"scatFeaturesNew.pt\")\n",
    "torch.save(targetsNew,\"targetsNew.pt\")"
   ]
  },
  {
   "cell_type": "code",
   "execution_count": 6,
   "metadata": {},
   "outputs": [
    {
     "name": "stdout",
     "output_type": "stream",
     "text": [
      "torch.Size([1920, 1, 81, 7, 7])\n",
      "torch.Size([1920])\n"
     ]
    }
   ],
   "source": [
    "# This section is pretty fast\n",
    "scatFeatures_test = torch.load(\"scatFeatures_test.pt\")\n",
    "targets_test = torch.load(\"targets_test.pt\")\n",
    "scatFeaturesNew_test = scatFeatures_test[0]\n",
    "targetsNew_test = targets_test[0]\n",
    "for i in range(1,len(scatFeatures_test)):\n",
    "    scatFeaturesNew_test = torch.cat((scatFeaturesNew_test, scatFeatures_test[i]), 0)\n",
    "    targetsNew_test = torch.cat((targetsNew_test, targets_test[i]), 0)\n",
    "print scatFeaturesNew_test.size()\n",
    "print targetsNew_test.size()"
   ]
  },
  {
   "cell_type": "code",
   "execution_count": 7,
   "metadata": {
    "collapsed": true
   },
   "outputs": [],
   "source": [
    "# Used for VGG19 model\n",
    "torch.save(scatFeaturesNew_test,\"scatFeaturesNew_test.pt\")\n",
    "torch.save(targetsNew_test,\"targetsNew_test.pt\")"
   ]
  },
  {
   "cell_type": "code",
   "execution_count": 5,
   "metadata": {
    "collapsed": true
   },
   "outputs": [],
   "source": [
    "import numpy as np\n",
    "import matplotlib.pyplot as plt\n",
    "from time import time\n",
    "from sklearn import datasets, manifold"
   ]
  },
  {
   "cell_type": "code",
   "execution_count": 12,
   "metadata": {},
   "outputs": [
    {
     "name": "stdout",
     "output_type": "stream",
     "text": [
      "25401600\n",
      "(6400, 3969)\n"
     ]
    }
   ],
   "source": [
    "# slow Train dataset\n",
    "tsne = manifold.TSNE(n_components=2, init='pca', random_state=0)\n",
    "scatFeatures_np = scatFeaturesNew.cpu().numpy()\n",
    "nsamples = scatFeatures_np.shape[0]\n",
    "scatFeatures_np_d2 = scatFeatures_np.reshape((nsamples, 49*81))\n",
    "print size(scatFeatures_np_d2)\n",
    "print scatFeatures_np_d2.shape\n",
    "#scatFeatures_np_d2_tsne = tsne.fit_transform(scatFeatures_np_d2)\n",
    "#print scatFeatures_np_d2_tsne.shape"
   ]
  },
  {
   "cell_type": "code",
   "execution_count": 8,
   "metadata": {},
   "outputs": [
    {
     "name": "stdout",
     "output_type": "stream",
     "text": [
      "7620480\n",
      "(1920, 3969)\n"
     ]
    }
   ],
   "source": [
    "# slow Test dataset\n",
    "tsne = manifold.TSNE(n_components=2, init='pca', random_state=0)\n",
    "scatFeatures_test_np = scatFeaturesNew_test.cpu().numpy()\n",
    "nsamples = scatFeatures_test_np.shape[0]\n",
    "scatFeatures_test_np_d2 = scatFeatures_test_np.reshape((nsamples, 49*81))\n",
    "print size(scatFeatures_test_np_d2)\n",
    "print scatFeatures_test_np_d2.shape\n",
    "#scatFeatures_test_np_d2_tsne = tsne.fit_transform(scatFeatures_test_np_d2)\n",
    "#print scatFeatures_test_np_d2_tsne.shape"
   ]
  },
  {
   "cell_type": "code",
   "execution_count": 10,
   "metadata": {
    "collapsed": true
   },
   "outputs": [],
   "source": [
    "# Two dimension data\n",
    "#np.save('scatFeatures_np_d2.npy', scatFeatures_np_d2)\n",
    "#np.save('scatFeatures_np_d2_tsne.npy', scatFeatures_np_d2_tsne)\n",
    "np.save('scatFeatures_test_np_d2.npy', scatFeatures_test_np_d2)"
   ]
  },
  {
   "cell_type": "code",
   "execution_count": 9,
   "metadata": {
    "collapsed": true
   },
   "outputs": [],
   "source": [
    "np.save('scatFeatures_test_np_d2_tsne.npy', scatFeatures_test_np_d2_tsne)"
   ]
  },
  {
   "cell_type": "code",
   "execution_count": 68,
   "metadata": {},
   "outputs": [
    {
     "name": "stdout",
     "output_type": "stream",
     "text": [
      "5\n",
      "7\n"
     ]
    }
   ],
   "source": [
    "# pretty fast\n",
    "targets_np = targetsNew.cpu().numpy()\n",
    "# targets_np\n",
    "np.save('targets_np.npy', targets_np)\n",
    "print targets_np[0]\n",
    "targets_test_np = targetsNew_test.cpu().numpy()\n",
    "np.save('targets_test_np.npy', targets_test_np)\n",
    "print targets_test_np[0]"
   ]
  },
  {
   "cell_type": "code",
   "execution_count": 31,
   "metadata": {},
   "outputs": [
    {
     "name": "stdout",
     "output_type": "stream",
     "text": [
      "[5 0 4 1 9 2 1 3 1 4]\n",
      "[7 2 1 0 4 1 4 9 5 9]\n"
     ]
    }
   ],
   "source": [
    "print targets_np[0:10]\n",
    "print targets_test_np[0:10]"
   ]
  },
  {
   "cell_type": "code",
   "execution_count": 14,
   "metadata": {
    "collapsed": true
   },
   "outputs": [],
   "source": [
    "scatFeatures_np_d2_tsne = np.load('scatFeatures_np_d2_tsne.npy')\n",
    "targets_np = np.load('targets_np.npy')"
   ]
  },
  {
   "cell_type": "code",
   "execution_count": 4,
   "metadata": {},
   "outputs": [
    {
     "data": {
      "image/png": "[encoded data removed]",
      "text/plain": [
       "<matplotlib.figure.Figure at 0x7fbf40a60f10>"
      ]
     },
     "metadata": {},
     "output_type": "display_data"
    }
   ],
   "source": [
    "# Visualize the scat features\n",
    "# Scale and visualize the embedding vectors                            \n",
    "from time import time\n",
    "\n",
    "import numpy as np\n",
    "import matplotlib.pyplot as plt\n",
    "from matplotlib import offsetbox\n",
    "\n",
    "def plot_embedding(X, title=None):     \n",
    "    x_min, x_max = np.min(X, 0), np.max(X, 0)\n",
    "    X = (X - x_min) / (x_max - x_min)                           \n",
    "\n",
    "    plt.figure()              \n",
    "    ax = plt.subplot(111)      \n",
    "    for i in range(X.shape[0]):                          \n",
    "        plt.text(X[i, 0], X[i, 1], str(targets_np[i]),    \n",
    "                 color=plt.cm.Set1(targets_np[i] / 10.),         \n",
    "                 fontdict={'weight': 'bold', 'size': 9})\n",
    "    plt.xticks([]), plt.yticks([])\n",
    "    if title is not None:\n",
    "        plt.title(title)\n",
    "\n",
    "t0 = time()\n",
    "plot_embedding(scatFeatures_np_d2_tsne,\n",
    "               \"t-SNE embedding of the digits (time %.2fs)\" %\n",
    "               (time() - t0))\n",
    "\n",
    "plt.show()"
   ]
  },
  {
   "cell_type": "code",
   "execution_count": 5,
   "metadata": {
    "collapsed": true
   },
   "outputs": [],
   "source": [
    "plt.savefig('scat-tsne.jpg')"
   ]
  },
  {
   "cell_type": "code",
   "execution_count": 35,
   "metadata": {},
   "outputs": [
    {
     "name": "stdout",
     "output_type": "stream",
     "text": [
      "6400\n",
      "628\n",
      "718\n",
      "624\n",
      "650\n",
      "660\n",
      "552\n",
      "645\n",
      "693\n",
      "587\n",
      "643\n",
      "1920\n",
      "170\n",
      "226\n",
      "210\n",
      "199\n",
      "206\n",
      "172\n",
      "166\n",
      "197\n",
      "185\n",
      "189\n"
     ]
    }
   ],
   "source": [
    "print size(targets_np)\n",
    "print sum(targets_np==0)\n",
    "print sum(targets_np==1)\n",
    "print sum(targets_np==2)\n",
    "print sum(targets_np==3)\n",
    "print sum(targets_np==4)\n",
    "print sum(targets_np==5)\n",
    "print sum(targets_np==6)\n",
    "print sum(targets_np==7)\n",
    "print sum(targets_np==8)\n",
    "print sum(targets_np==9)\n",
    "\n",
    "print size(targets_test_np)\n",
    "print sum(targets_test_np==0)\n",
    "print sum(targets_test_np==1)\n",
    "print sum(targets_test_np==2)\n",
    "print sum(targets_test_np==3)\n",
    "print sum(targets_test_np==4)\n",
    "print sum(targets_test_np==5)\n",
    "print sum(targets_test_np==6)\n",
    "print sum(targets_test_np==7)\n",
    "print sum(targets_test_np==8)\n",
    "print sum(targets_test_np==9)"
   ]
  },
  {
   "cell_type": "code",
   "execution_count": 36,
   "metadata": {},
   "outputs": [
    {
     "name": "stdout",
     "output_type": "stream",
     "text": [
      "(6400, 3969)\n",
      "(6400,)\n"
     ]
    }
   ],
   "source": [
    "print scatFeatures_np_d2.shape\n",
    "print targets_np.shape"
   ]
  },
  {
   "cell_type": "code",
   "execution_count": null,
   "metadata": {},
   "outputs": [
    {
     "data": {
      "text/plain": [
       "SVC(C=100, cache_size=200, class_weight=None, coef0=0.0,\n",
       "  decision_function_shape='ovr', degree=3, gamma='auto', kernel='rbf',\n",
       "  max_iter=-1, probability=False, random_state=None, shrinking=True,\n",
       "  tol=0.001, verbose=False)"
      ]
     },
     "execution_count": 48,
     "metadata": {},
     "output_type": "execute_result"
    }
   ],
   "source": [
    "# load data\n",
    "scatFeatures_np_d2 = np.load(\"scatFeatures_np_d2.npy\")\n",
    "targets_np = np.load(\"targets_np.npy\")\n",
    "# slow when size of X is large\n",
    "# SVM for scatFeatures_np_d2\n",
    "from sklearn import svm\n",
    "#X:scatFeatures_np_d2\n",
    "#y:targets_np\n",
    "clf = svm.SVC(C=100)\n",
    "#clf = svm.SVC(decision_function_shape='ovo')\n",
    "clf.fit(scatFeatures_np_d2, targets_np)"
   ]
  },
  {
   "cell_type": "code",
   "execution_count": 49,
   "metadata": {},
   "outputs": [
    {
     "data": {
      "text/plain": [
       "['clf.pkl']"
      ]
     },
     "execution_count": 49,
     "metadata": {},
     "output_type": "execute_result"
    }
   ],
   "source": [
    "# not easy to train, save it\n",
    "from sklearn.externals import joblib\n",
    "joblib.dump(clf, 'clf.pkl') "
   ]
  },
  {
   "cell_type": "code",
   "execution_count": 50,
   "metadata": {
    "collapsed": true
   },
   "outputs": [],
   "source": [
    "#X_test:scatFeatures_test_np_d2_tsne\n",
    "#y:targets_test_np\n",
    "# load SVM model   \n",
    "from sklearn.externals import joblib\n",
    "clf = joblib.load('clf.pkl')\n",
    "scatFeatures_test_np_d2 = np.load(\"scatFeatures_test_np_d2.npy\")\n",
    "pred = clf.predict(scatFeatures_test_np_d2)"
   ]
  },
  {
   "cell_type": "markdown",
   "metadata": {},
   "source": [
    "#ScatNet+SVM results:"
   ]
  },
  {
   "cell_type": "code",
   "execution_count": 52,
   "metadata": {},
   "outputs": [
    {
     "name": "stdout",
     "output_type": "stream",
     "text": [
      "(1920,)\n",
      "1775\n",
      "0.924479166667\n"
     ]
    }
   ],
   "source": [
    "targets_test_np = np.load(\"targets_test_np.npy\")\n",
    "print \"Test data size: \", targets_test_np.shape\n",
    "#print sum(pred)\n",
    "#print sum(pred == 1)\n",
    "print \"Prediction correct count: \", sum(pred == targets_test_np)\n",
    "print \"Precision: \", sum(pred == targets_test_np)*1.0/len(targets_test_np)"
   ]
  },
  {
   "cell_type": "markdown",
   "metadata": {
    "collapsed": true
   },
   "source": [
    "# Experiment Environments\n",
    "Using 6400 of 60000 data from training set as training data. And 1960 data from 10000 data from test set as testing data. For my machine is not so good, this can save much time.\n",
    "The framework is PyTorch. Using this lib to extract ScatNet features: https://github.com/edouardoyallon/pyscatwave\n",
    "And this model to extract VGG19 features: https://github.com/aaron-xichen/pytorch-playground/blob/master/mnist/model.py\n",
    "For both of above features, first using t-SNE to visulize them, them classify them using trained SVM.\n",
    "#Results\n",
    "##Features Visulization\n",
    "Features from ScatNet:\n",
    "![scat-tsne.jpg.png](./scat-tsne.jpg.png)\n",
    "Features from VGG19:\n",
    "![vgg19-tsne.jpg.png](./vgg19-tsne.jpg.png)\n",
    "##Classifacation\n",
    "Classification using SVM, applying extracted features from VGG19 network as inputs:\n",
    "Test data size:  (1920,)\n",
    "Prediction correct count:  1281\n",
    "Precision:  0.6671875\n",
    "Classification using SVM, applying extracted features from ScatNet network as inputs:\n",
    "(1920,)\n",
    "1775\n",
    "0.924479166667\n",
    "#Conclusion\n",
    "For VGG19 extracted feature, using SVM is not a good idea. It's better to use neural network to carry out the classification task."
   ]
  }
 ],
 "metadata": {
  "kernelspec": {
   "display_name": "Python 2",
   "language": "python",
   "name": "python2"
  },
  "language_info": {
   "codemirror_mode": {
    "name": "ipython",
    "version": 2
   },
   "file_extension": ".py",
   "mimetype": "text/x-python",
   "name": "python",
   "nbconvert_exporter": "python",
   "pygments_lexer": "ipython2",
   "version": "2.7.12"
  }
 },
 "nbformat": 4,
 "nbformat_minor": 2
}
