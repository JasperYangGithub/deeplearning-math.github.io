{
 "cells": [
  {
   "cell_type": "markdown",
   "metadata": {},
   "source": [
    "# Image classifications using traditional supervised learning methods based on the features extracted"
   ]
  },
  {
   "cell_type": "code",
   "execution_count": 1,
   "metadata": {},
   "outputs": [],
   "source": [
    "from utils import *\n",
    "from sklearn.metrics import classification_report"
   ]
  },
  {
   "cell_type": "markdown",
   "metadata": {},
   "source": [
    "## vgg19 "
   ]
  },
  {
   "cell_type": "markdown",
   "metadata": {},
   "source": [
    "### Load test dataset"
   ]
  },
  {
   "cell_type": "code",
   "execution_count": 2,
   "metadata": {},
   "outputs": [],
   "source": [
    "features, labels = get_stored_dataset(\"vgg19\", train=False)"
   ]
  },
  {
   "cell_type": "markdown",
   "metadata": {},
   "source": [
    "### Load and test trained logistic regression classifier and random forest classifier"
   ]
  },
  {
   "cell_type": "code",
   "execution_count": 3,
   "metadata": {},
   "outputs": [
    {
     "name": "stderr",
     "output_type": "stream",
     "text": [
      "/Users/yongquanqu/anaconda3/anaconda3/envs/pytorch/lib/python3.7/site-packages/sklearn/base.py:334: UserWarning: Trying to unpickle estimator SGDClassifier from version 0.22.1 when using version 0.23.2. This might lead to breaking code or invalid results. Use at your own risk.\n",
      "  UserWarning)\n",
      "/Users/yongquanqu/anaconda3/anaconda3/envs/pytorch/lib/python3.7/site-packages/sklearn/base.py:334: UserWarning: Trying to unpickle estimator DecisionTreeClassifier from version 0.22.1 when using version 0.23.2. This might lead to breaking code or invalid results. Use at your own risk.\n",
      "  UserWarning)\n",
      "/Users/yongquanqu/anaconda3/anaconda3/envs/pytorch/lib/python3.7/site-packages/sklearn/base.py:334: UserWarning: Trying to unpickle estimator RandomForestClassifier from version 0.22.1 when using version 0.23.2. This might lead to breaking code or invalid results. Use at your own risk.\n",
      "  UserWarning)\n",
      "[Parallel(n_jobs=1)]: Using backend SequentialBackend with 1 concurrent workers.\n",
      "[Parallel(n_jobs=1)]: Done   1 out of   1 | elapsed:    0.0s remaining:    0.0s\n",
      "[Parallel(n_jobs=1)]: Done   2 out of   2 | elapsed:    0.0s remaining:    0.0s\n",
      "[Parallel(n_jobs=1)]: Done   3 out of   3 | elapsed:    0.0s remaining:    0.0s\n",
      "[Parallel(n_jobs=1)]: Done   4 out of   4 | elapsed:    0.0s remaining:    0.0s\n",
      "[Parallel(n_jobs=1)]: Done 100 out of 100 | elapsed:    0.6s finished\n",
      "/Users/yongquanqu/anaconda3/anaconda3/envs/pytorch/lib/python3.7/site-packages/sklearn/base.py:334: UserWarning: Trying to unpickle estimator LinearDiscriminantAnalysis from version 0.22.1 when using version 0.23.2. This might lead to breaking code or invalid results. Use at your own risk.\n",
      "  UserWarning)\n"
     ]
    }
   ],
   "source": [
    "predicted_lr = test_classifier(\"lr\",\n",
    "                dataset=\"vgg19\")\n",
    "predicted_rf = test_classifier(\"rf\",\n",
    "                dataset=\"vgg19\")\n",
    "predicted_lda = test_classifier(\"lda\",\n",
    "                dataset=\"vgg19\")"
   ]
  },
  {
   "cell_type": "markdown",
   "metadata": {},
   "source": [
    "### classification report"
   ]
  },
  {
   "cell_type": "code",
   "execution_count": 4,
   "metadata": {},
   "outputs": [
    {
     "name": "stdout",
     "output_type": "stream",
     "text": [
      "              precision    recall  f1-score   support\n",
      "\n",
      "           0       0.83      0.82      0.82      1000\n",
      "           1       0.98      0.97      0.97      1000\n",
      "           2       0.83      0.83      0.83      1000\n",
      "           3       0.86      0.83      0.84      1000\n",
      "           4       0.80      0.81      0.80      1000\n",
      "           5       0.95      0.93      0.94      1000\n",
      "           6       0.66      0.65      0.65      1000\n",
      "           7       0.92      0.94      0.93      1000\n",
      "           8       0.94      0.98      0.96      1000\n",
      "           9       0.95      0.94      0.95      1000\n",
      "\n",
      "    accuracy                           0.87     10000\n",
      "   macro avg       0.87      0.87      0.87     10000\n",
      "weighted avg       0.87      0.87      0.87     10000\n",
      "\n"
     ]
    }
   ],
   "source": [
    "rep_lr = classification_report(labels, predicted_lr)\n",
    "print(rep_lr)"
   ]
  },
  {
   "cell_type": "code",
   "execution_count": 5,
   "metadata": {},
   "outputs": [
    {
     "name": "stdout",
     "output_type": "stream",
     "text": [
      "              precision    recall  f1-score   support\n",
      "\n",
      "           0       0.78      0.84      0.81      1000\n",
      "           1       0.99      0.94      0.97      1000\n",
      "           2       0.78      0.79      0.78      1000\n",
      "           3       0.80      0.81      0.81      1000\n",
      "           4       0.74      0.79      0.76      1000\n",
      "           5       0.92      0.91      0.92      1000\n",
      "           6       0.64      0.57      0.60      1000\n",
      "           7       0.89      0.92      0.90      1000\n",
      "           8       0.96      0.96      0.96      1000\n",
      "           9       0.93      0.93      0.93      1000\n",
      "\n",
      "    accuracy                           0.85     10000\n",
      "   macro avg       0.84      0.85      0.84     10000\n",
      "weighted avg       0.84      0.85      0.84     10000\n",
      "\n"
     ]
    }
   ],
   "source": [
    "rep_rf = classification_report(labels, predicted_rf)\n",
    "print(rep_rf)"
   ]
  },
  {
   "cell_type": "code",
   "execution_count": 6,
   "metadata": {},
   "outputs": [
    {
     "name": "stdout",
     "output_type": "stream",
     "text": [
      "              precision    recall  f1-score   support\n",
      "\n",
      "           0       0.86      0.83      0.84      1000\n",
      "           1       1.00      0.96      0.98      1000\n",
      "           2       0.86      0.84      0.85      1000\n",
      "           3       0.86      0.86      0.86      1000\n",
      "           4       0.80      0.85      0.83      1000\n",
      "           5       0.97      0.94      0.95      1000\n",
      "           6       0.66      0.69      0.68      1000\n",
      "           7       0.92      0.95      0.94      1000\n",
      "           8       0.98      0.97      0.98      1000\n",
      "           9       0.96      0.95      0.95      1000\n",
      "\n",
      "    accuracy                           0.88     10000\n",
      "   macro avg       0.89      0.88      0.89     10000\n",
      "weighted avg       0.89      0.88      0.89     10000\n",
      "\n"
     ]
    }
   ],
   "source": [
    "rep_lda = classification_report(labels, predicted_lda)\n",
    "print(rep_lda)"
   ]
  },
  {
   "cell_type": "markdown",
   "metadata": {},
   "source": [
    "## ResNet"
   ]
  },
  {
   "cell_type": "markdown",
   "metadata": {},
   "source": [
    "### Load test dataset"
   ]
  },
  {
   "cell_type": "code",
   "execution_count": 7,
   "metadata": {},
   "outputs": [],
   "source": [
    "features, labels = get_stored_dataset(\"resnet\", train=False)"
   ]
  },
  {
   "cell_type": "markdown",
   "metadata": {},
   "source": [
    "### Load and test trained logistic regression classifier and random forest classifier"
   ]
  },
  {
   "cell_type": "code",
   "execution_count": 8,
   "metadata": {},
   "outputs": [
    {
     "name": "stderr",
     "output_type": "stream",
     "text": [
      "/Users/yongquanqu/anaconda3/anaconda3/envs/pytorch/lib/python3.7/site-packages/sklearn/base.py:334: UserWarning: Trying to unpickle estimator SGDClassifier from version 0.22.1 when using version 0.23.2. This might lead to breaking code or invalid results. Use at your own risk.\n",
      "  UserWarning)\n",
      "/Users/yongquanqu/anaconda3/anaconda3/envs/pytorch/lib/python3.7/site-packages/sklearn/base.py:334: UserWarning: Trying to unpickle estimator DecisionTreeClassifier from version 0.22.1 when using version 0.23.2. This might lead to breaking code or invalid results. Use at your own risk.\n",
      "  UserWarning)\n",
      "/Users/yongquanqu/anaconda3/anaconda3/envs/pytorch/lib/python3.7/site-packages/sklearn/base.py:334: UserWarning: Trying to unpickle estimator RandomForestClassifier from version 0.22.1 when using version 0.23.2. This might lead to breaking code or invalid results. Use at your own risk.\n",
      "  UserWarning)\n",
      "[Parallel(n_jobs=1)]: Using backend SequentialBackend with 1 concurrent workers.\n",
      "[Parallel(n_jobs=1)]: Done   1 out of   1 | elapsed:    0.0s remaining:    0.0s\n",
      "[Parallel(n_jobs=1)]: Done   2 out of   2 | elapsed:    0.0s remaining:    0.0s\n",
      "[Parallel(n_jobs=1)]: Done   3 out of   3 | elapsed:    0.0s remaining:    0.0s\n",
      "[Parallel(n_jobs=1)]: Done   4 out of   4 | elapsed:    0.0s remaining:    0.0s\n",
      "[Parallel(n_jobs=1)]: Done 100 out of 100 | elapsed:    0.4s finished\n",
      "/Users/yongquanqu/anaconda3/anaconda3/envs/pytorch/lib/python3.7/site-packages/sklearn/base.py:334: UserWarning: Trying to unpickle estimator LinearDiscriminantAnalysis from version 0.22.1 when using version 0.23.2. This might lead to breaking code or invalid results. Use at your own risk.\n",
      "  UserWarning)\n"
     ]
    }
   ],
   "source": [
    "predicted_lr = test_classifier(\"lr\",\n",
    "                dataset=\"resnet\")\n",
    "predicted_rf = test_classifier(\"rf\",\n",
    "                dataset=\"resnet\")\n",
    "predicted_lda = test_classifier(\"lda\",\n",
    "                dataset=\"resnet\")"
   ]
  },
  {
   "cell_type": "markdown",
   "metadata": {},
   "source": [
    "### classification report"
   ]
  },
  {
   "cell_type": "code",
   "execution_count": 9,
   "metadata": {},
   "outputs": [
    {
     "name": "stdout",
     "output_type": "stream",
     "text": [
      "              precision    recall  f1-score   support\n",
      "\n",
      "           0       0.84      0.81      0.83      1000\n",
      "           1       0.99      0.96      0.98      1000\n",
      "           2       0.85      0.83      0.84      1000\n",
      "           3       0.86      0.85      0.85      1000\n",
      "           4       0.82      0.78      0.80      1000\n",
      "           5       0.96      0.95      0.95      1000\n",
      "           6       0.58      0.68      0.63      1000\n",
      "           7       0.93      0.94      0.93      1000\n",
      "           8       0.97      0.97      0.97      1000\n",
      "           9       0.95      0.94      0.94      1000\n",
      "\n",
      "    accuracy                           0.87     10000\n",
      "   macro avg       0.88      0.87      0.87     10000\n",
      "weighted avg       0.88      0.87      0.87     10000\n",
      "\n"
     ]
    }
   ],
   "source": [
    "rep_lr = classification_report(labels, predicted_lr)\n",
    "print(rep_lr)"
   ]
  },
  {
   "cell_type": "code",
   "execution_count": 10,
   "metadata": {},
   "outputs": [
    {
     "name": "stdout",
     "output_type": "stream",
     "text": [
      "              precision    recall  f1-score   support\n",
      "\n",
      "           0       0.81      0.84      0.82      1000\n",
      "           1       0.99      0.95      0.97      1000\n",
      "           2       0.80      0.82      0.81      1000\n",
      "           3       0.80      0.85      0.83      1000\n",
      "           4       0.76      0.80      0.78      1000\n",
      "           5       0.94      0.92      0.93      1000\n",
      "           6       0.68      0.56      0.62      1000\n",
      "           7       0.90      0.92      0.91      1000\n",
      "           8       0.96      0.98      0.97      1000\n",
      "           9       0.95      0.94      0.94      1000\n",
      "\n",
      "    accuracy                           0.86     10000\n",
      "   macro avg       0.86      0.86      0.86     10000\n",
      "weighted avg       0.86      0.86      0.86     10000\n",
      "\n"
     ]
    }
   ],
   "source": [
    "rep_rf = classification_report(labels, predicted_rf)\n",
    "print(rep_rf)"
   ]
  },
  {
   "cell_type": "code",
   "execution_count": 11,
   "metadata": {},
   "outputs": [
    {
     "name": "stdout",
     "output_type": "stream",
     "text": [
      "              precision    recall  f1-score   support\n",
      "\n",
      "           0       0.81      0.83      0.82      1000\n",
      "           1       1.00      0.95      0.97      1000\n",
      "           2       0.83      0.84      0.83      1000\n",
      "           3       0.83      0.87      0.85      1000\n",
      "           4       0.79      0.80      0.79      1000\n",
      "           5       0.96      0.94      0.95      1000\n",
      "           6       0.64      0.62      0.63      1000\n",
      "           7       0.90      0.95      0.93      1000\n",
      "           8       0.99      0.96      0.97      1000\n",
      "           9       0.96      0.94      0.95      1000\n",
      "\n",
      "    accuracy                           0.87     10000\n",
      "   macro avg       0.87      0.87      0.87     10000\n",
      "weighted avg       0.87      0.87      0.87     10000\n",
      "\n"
     ]
    }
   ],
   "source": [
    "rep_lda = classification_report(labels, predicted_lda)\n",
    "print(rep_lda)"
   ]
  }
 ],
 "metadata": {
  "kernelspec": {
   "display_name": "Python 3",
   "language": "python",
   "name": "python3"
  },
  "language_info": {
   "codemirror_mode": {
    "name": "ipython",
    "version": 3
   },
   "file_extension": ".py",
   "mimetype": "text/x-python",
   "name": "python",
   "nbconvert_exporter": "python",
   "pygments_lexer": "ipython3",
   "version": "3.7.7"
  }
 },
 "nbformat": 4,
 "nbformat_minor": 4
}
