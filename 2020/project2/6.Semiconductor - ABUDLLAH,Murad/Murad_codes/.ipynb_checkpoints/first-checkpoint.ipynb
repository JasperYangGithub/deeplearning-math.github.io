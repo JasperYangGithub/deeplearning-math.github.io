{
 "cells": [
  {
   "cell_type": "code",
   "execution_count": null,
   "metadata": {},
   "outputs": [],
   "source": [
    "from IPython.core.display import display, HTML\n",
    "display(HTML(\"<style>.container{width:100%}</style>\"))"
   ]
  },
  {
   "cell_type": "code",
   "execution_count": null,
   "metadata": {
    "_cell_guid": "b1076dfc-b9ad-4769-8c92-a6c4dae69d19",
    "_uuid": "8f2839f25d086af736a60e9eeb907d3b93b6e0e5"
   },
   "outputs": [],
   "source": [
    "import numpy as np\n",
    "import cv2\n",
    "import pandas as pd\n",
    "import os\n",
    "import glob\n",
    "import matplotlib.pyplot as plt\n",
    "import torch\n",
    "from torch.utils.data import Dataset,DataLoader\n",
    "from torchvision import transforms\n",
    "import torch.nn as nn\n",
    "import tqdm\n",
    "import torch.nn.functional as F\n",
    "import torchvision.models as models\n",
    "import torch.optim as optim\n",
    "from torch.optim.lr_scheduler import ReduceLROnPlateau,StepLR\n",
    "import PIL\n",
    "from sklearn.model_selection import train_test_split\n",
    "from sklearn.metrics import roc_auc_score\n",
    "device = torch.device(\"cuda:0\" if torch.cuda.is_available() else 'cpu')"
   ]
  },
  {
   "cell_type": "code",
   "execution_count": null,
   "metadata": {
    "_cell_guid": "79c7e3d0-c299-4dcb-8224-4455121ee9b0",
    "_uuid": "d629ff2d2480ee46fbb7e2d37f6b5fab8052498a"
   },
   "outputs": [],
   "source": [
    "addr = '../'\n",
    "df = pd.read_csv(addr+'defect_area.csv')\n",
    "train_good = glob.glob(addr+'train/train_contest/good_all/*.bmp')\n",
    "labels = [0]*len(train_good)\n",
    "train_bad = glob.glob(addr+'train/train_contest/defect/*.bmp')\n",
    "labels = labels + [1]*len(train_bad)\n",
    "train_ = train_good + train_bad\n",
    "names = list(map(lambda x: x.split('/')[-1].split('.')[0], train_))\n",
    "train_data = pd.DataFrame({'id': names, 'addr':train_, 'label':labels})\n",
    "del train_good, train_bad,names,labels\n",
    "sample_sub = pd.read_csv(addr+'submission_sample.csv')\n",
    "\n",
    "#test_all = glob.glob(addr + 'test/test_contest/test/*.bmp')\n",
    "test_all = list(map(lambda x: addr+ 'test/test_contest/test/'+x+'.bmp',sample_sub['id']))\n",
    "\n",
    "names = list(map(lambda x: x.split('/')[-1].split('.')[0], test_all))\n",
    "test_data = pd.DataFrame({'id': names, 'addr': test_all})\n",
    "#del names, test_all"
   ]
  },
  {
   "cell_type": "code",
   "execution_count": null,
   "metadata": {},
   "outputs": [],
   "source": []
  },
  {
   "cell_type": "code",
   "execution_count": null,
   "metadata": {},
   "outputs": [],
   "source": [
    "def getImageMetaData(p):\n",
    "    strFile = p\n",
    "    file = None;\n",
    "    bRet = False;\n",
    "    strMd5 = \"\";\n",
    "    \n",
    "    try:\n",
    "        file = open(strFile, \"rb\");\n",
    "        md5 = hashlib.md5();\n",
    "        strRead = \"\";\n",
    "        \n",
    "        while True:\n",
    "            strRead = file.read(8096);\n",
    "            if not strRead:\n",
    "                break;\n",
    "            md5.update(strRead);\n",
    "        #read file finish\n",
    "        bRet = True;\n",
    "        strMd5 = md5.hexdigest();\n",
    "    except:\n",
    "        bRet = False;\n",
    "    finally:\n",
    "        if file:\n",
    "            file.close()\n",
    "\n",
    "    return p,strMd5"
   ]
  },
  {
   "cell_type": "code",
   "execution_count": null,
   "metadata": {},
   "outputs": [],
   "source": [
    "def read_image(p,size=(224,224)):\n",
    "    img = cv2.imread(p);\n",
    "    img = cv2.cvtColor(img, cv2.COLOR_BGR2RGB)\n",
    "    img = cv2.resize(img,size)\n",
    "    return img.copy()\n",
    "\n",
    "def visual(n=12, data=train_data):\n",
    "    r,c = 3,4\n",
    "    fig,axes = plt.subplots(r,c,figsize=(12,10))\n",
    "    indx = np.random.randint(0,data.shape[0],n).astype('uint32')\n",
    "    for i in range(n):\n",
    "        ax = axes[i%r,i%c]\n",
    "        ax.imshow(read_image(data['addr'][indx[i]]),cmap = 'gray')\n",
    "        ax.axis('off')\n",
    "        if data.shape[1]>2:\n",
    "            ax.set_title(f\"{['Good','Bad'][data['label'][indx[i]]]}\")\n",
    "        \n",
    "visual()    "
   ]
  },
  {
   "cell_type": "code",
   "execution_count": null,
   "metadata": {},
   "outputs": [],
   "source": [
    "class Nexperia_data(Dataset):\n",
    "    def __init__(self,dataset = None,typ='train',transform = None):\n",
    "        \n",
    "        self.data = dataset\n",
    "        self.type = typ\n",
    "        self.transform = transform\n",
    "        self.img_addrs = self.data['addr'].values\n",
    "        if typ=='train':\n",
    "            self.img_labels = self.data['label'].values\n",
    "\n",
    "    def __len__(self):\n",
    "        return self.data.shape[0]\n",
    "    def __getitem__(self,idx):\n",
    "        \n",
    "        img = read_image(self.img_addrs[idx])\n",
    "        #img = np.repeat(img[np.newaxis,:,:],3,axis=0)\n",
    "        #print(img)\n",
    "        #img = img.reshape(1,img.shape[0],img.shape[1])\n",
    "        #img = PIL.Image.open(self.data['addr'][idx])\n",
    "        if self.transform:\n",
    "            img = PIL.Image.fromarray(img)\n",
    "            img = self.transform(img)        \n",
    "        \n",
    "\n",
    "        if self.type=='train':\n",
    "            label = self.img_labels[idx]\n",
    "            return img,label\n",
    "        return img\n",
    "       "
   ]
  },
  {
   "cell_type": "code",
   "execution_count": null,
   "metadata": {},
   "outputs": [],
   "source": [
    "class Nexmodel(nn.Module):\n",
    "    def __init__(self):\n",
    "        super(Nexmodel,self).__init__()\n",
    "        self.backbone = models.vgg19(pretrained=True);\n",
    "        in_features = self.backbone.classifier[6].in_features\n",
    "        self.backbone.classifier[6] = nn.Linear(in_features,2)\n",
    "        self.sigmoid = nn.Sigmoid()\n",
    "        self.softmax = nn.Softmax();\n",
    "    def forward(self,x):\n",
    "        x = self.backbone(x)\n",
    "        x = self.softmax(x)\n",
    "        return x"
   ]
  },
  {
   "cell_type": "code",
   "execution_count": null,
   "metadata": {},
   "outputs": [],
   "source": [
    "\n",
    "torch.cuda.empty_cache()\n",
    "BATCH_SIZE = 8;\n",
    "tr,vl = train_test_split(train_data,test_size=0.2)\n",
    "transform = transforms.Compose(\n",
    "            [\n",
    "                transforms.ToTensor()\n",
    "            ]\n",
    "    )\n",
    "tr_data_loader = DataLoader(Nexperia_data(dataset=tr,transform=transform),batch_size=BATCH_SIZE,shuffle=True)\n",
    "vl_data_loader = DataLoader(Nexperia_data(dataset=vl,transform=transform),batch_size=BATCH_SIZE,shuffle=True)"
   ]
  },
  {
   "cell_type": "code",
   "execution_count": null,
   "metadata": {},
   "outputs": [],
   "source": [
    "\n",
    "model = Nexmodel();\n",
    "model = model.to(device)\n",
    "optimizer = optim.SGD(model.parameters(), lr=1e-3)\n",
    "criterion = nn.CrossEntropyLoss()"
   ]
  },
  {
   "cell_type": "code",
   "execution_count": null,
   "metadata": {},
   "outputs": [],
   "source": [
    "\n",
    "for ep in range(5):\n",
    "    print(f'ep: {ep}')\n",
    "    model.train();    \n",
    "    for img,labels in tqdm.notebook.tqdm(tr_data_loader):\n",
    "        img = img.to(device)\n",
    "        otpt = model(img)\n",
    "\n",
    "        labels = labels.to(device)\n",
    "        optimizer.zero_grad()\n",
    "        loss = criterion(otpt,labels.long())\n",
    "        loss.backward();\n",
    "        optimizer.step();\n",
    "        \n",
    "    "
   ]
  },
  {
   "cell_type": "code",
   "execution_count": null,
   "metadata": {},
   "outputs": [],
   "source": []
  },
  {
   "cell_type": "code",
   "execution_count": null,
   "metadata": {},
   "outputs": [],
   "source": []
  },
  {
   "cell_type": "code",
   "execution_count": null,
   "metadata": {},
   "outputs": [],
   "source": [
    "lbls = None\n",
    "op = None;\n",
    "#model.eval()\n",
    "for img,labels in tqdm.notebook.tqdm(vl_data_loader):\n",
    "    \n",
    "    if lbls is None:\n",
    "        lbls = labels.numpy().reshape(-1,)\n",
    "    else:\n",
    "        lbls = np.hstack([lbls,labels.numpy().reshape(-1,)])\n",
    "    img = img.to(device)\n",
    "    otpt = model(img)\n",
    "    otpt = otpt.detach().cpu().numpy()\n",
    "    if op is None:\n",
    "        op = np.argmax(otpt,1)\n",
    "    else:\n",
    "        op = np.hstack([op,np.argmax(otpt,1)])\n",
    "    \n",
    "    "
   ]
  },
  {
   "cell_type": "code",
   "execution_count": null,
   "metadata": {},
   "outputs": [],
   "source": [
    "tst_data_loader = DataLoader(Nexperia_data(dataset=test_data,typ='test',transform=transform),batch_size=1,shuffle=False)"
   ]
  },
  {
   "cell_type": "code",
   "execution_count": null,
   "metadata": {},
   "outputs": [],
   "source": [
    "tst_op = None;\n",
    "for img in tqdm.notebook.tqdm(tst_data_loader):\n",
    "    img = img.to(device)\n",
    "    otpt = model(img)\n",
    "    otpt = otpt.detach().cpu().numpy()\n",
    "    if tst_op is None:\n",
    "        tst_op = np.argmax(otpt,1)\n",
    "    else:\n",
    "        tst_op = np.hstack([tst_op, np.argmax(otpt,1)])"
   ]
  },
  {
   "cell_type": "code",
   "execution_count": null,
   "metadata": {},
   "outputs": [],
   "source": [
    "sample_sub['defect_score'] = tst_op"
   ]
  },
  {
   "cell_type": "code",
   "execution_count": null,
   "metadata": {},
   "outputs": [],
   "source": [
    "sample_sub.to_csv('vgg19_0.96791_submission.csv',index=False)"
   ]
  },
  {
   "cell_type": "code",
   "execution_count": null,
   "metadata": {},
   "outputs": [],
   "source": []
  },
  {
   "cell_type": "code",
   "execution_count": null,
   "metadata": {},
   "outputs": [],
   "source": []
  },
  {
   "cell_type": "code",
   "execution_count": null,
   "metadata": {},
   "outputs": [],
   "source": []
  },
  {
   "cell_type": "code",
   "execution_count": null,
   "metadata": {},
   "outputs": [],
   "source": []
  }
 ],
 "metadata": {
  "kernelspec": {
   "display_name": "Python 3",
   "language": "python",
   "name": "python3"
  },
  "language_info": {
   "codemirror_mode": {
    "name": "ipython",
    "version": 3
   },
   "file_extension": ".py",
   "mimetype": "text/x-python",
   "name": "python",
   "nbconvert_exporter": "python",
   "pygments_lexer": "ipython3",
   "version": "3.6.12"
  }
 },
 "nbformat": 4,
 "nbformat_minor": 4
}
